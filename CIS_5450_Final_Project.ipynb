{
 "cells": [
  {
   "cell_type": "markdown",
   "metadata": {
    "id": "REs8u3jCq6rq"
   },
   "source": [
    "# **CIS 5450 Final Project: Predicting Song Popularity**\n",
    "*Jason Saito, Jasmine Wang, Alan Wu*"
   ]
  },
  {
   "cell_type": "markdown",
   "metadata": {
    "id": "Vc7F_7dvrLtv"
   },
   "source": [
    "# Part 1: Introduction\n"
   ]
  },
  {
   "cell_type": "markdown",
   "metadata": {
    "id": "4HgON66SWLu4"
   },
   "source": [
    "For our final project, we are trying to try and predict how popular songs are. While there are numerous ways to quantify popularity (record sales, cultural, impact, influence), in the streaming age, most music is consumed through platforms like Spotify and Apple Music, so we decided to use data directly from Spotify's API as they have their own popularity metric.\n",
    "\n",
    "We hope you our find our results insightful!"
   ]
  },
  {
   "cell_type": "markdown",
   "metadata": {
    "id": "2H6FMn7SVaYm"
   },
   "source": [
    "# Part 2: Data Loading & Cleaning"
   ]
  },
  {
   "cell_type": "markdown",
   "metadata": {
    "id": "Pe-pQuVpVko4"
   },
   "source": [
    "Here, we import all the neccessary packages and libraries for this project."
   ]
  },
  {
   "cell_type": "code",
   "execution_count": 1,
   "metadata": {
    "id": "_lEfDV6Vl3xY"
   },
   "outputs": [],
   "source": [
    "%%capture\n",
    "\n",
    "!pip install datasets"
   ]
  },
  {
   "cell_type": "code",
   "execution_count": 32,
   "metadata": {
    "id": "-JkIowcUG2JR"
   },
   "outputs": [],
   "source": [
    "import pandas as pd\n",
    "import numpy as np\n",
    "from numpy import random\n",
    "import matplotlib.pyplot as plt\n",
    "import seaborn as sns\n",
    "from datasets import load_dataset\n",
    "from scipy.stats import uniform\n",
    "\n",
    "from sklearn.model_selection import train_test_split, RandomizedSearchCV\n",
    "from sklearn.preprocessing import StandardScaler\n",
    "from sklearn.decomposition import PCA\n",
    "from sklearn.metrics import mean_squared_error, r2_score\n",
    "from sklearn.linear_model import LinearRegression\n",
    "from sklearn.ensemble import RandomForestRegressor\n",
    "\n",
    "from xgboost import XGBRegressor"
   ]
  },
  {
   "cell_type": "markdown",
   "metadata": {
    "id": "B7atloV9c--4"
   },
   "source": [
    "For the purposes of consistency, we are setting the numpy random seed to 69."
   ]
  },
  {
   "cell_type": "code",
   "execution_count": 3,
   "metadata": {
    "id": "D3ijHHA6c8fo"
   },
   "outputs": [],
   "source": [
    "np.random.seed(69)"
   ]
  },
  {
   "cell_type": "markdown",
   "metadata": {
    "id": "gDr_HaeFV2z4"
   },
   "source": [
    "## 2.1: Loading Data\n",
    "Our data comes from Hugging Face so we can use their datasets library to download directly from their dataset hub. We can then turn it into a Pandas dataframe for cleaing."
   ]
  },
  {
   "cell_type": "code",
   "execution_count": 4,
   "metadata": {
    "colab": {
     "base_uri": "https://localhost:8080/",
     "height": 237,
     "referenced_widgets": [
      "57427ead028449058af5f4471dc2001f",
      "d65e43929898474bbdd7d5664ab468c5",
      "3e615e6524a748828d3591c011616773",
      "77aa4f2d5df14fc084eec0c13e1c9f15",
      "06acd57afb9241a7940e2d6f3ad26834",
      "040f446dd36a4dcf8754e14c968f0b93",
      "bc3ecb8599994c5483dfe94358aaa243",
      "e81076d511ae4028b3ca98f63e91af85",
      "4071eb7611604e61bced643d4eccd6c2",
      "a1cd789d956140f9872ff60fe6f2b0d3",
      "da99247f5e0b4abc9ce21a207216eb95",
      "49932200caba40e1a0474e3a91c28dcb",
      "1eecd5f07dcf4316b3af9cfbd120346f",
      "129ef7085e684ca9b936e7a235abb507",
      "19b691c6a18c43509491251fb93a103a",
      "1190fa0da11844448744eea15966159d",
      "a7471f1e2e0d4987b9a0deb23e710a94",
      "9f55f6c7e389400ba66be0b91e956e31",
      "5515b0a8d40447168d2c2baf8906774a",
      "45923433c0b644769a38bc6367f520ce",
      "6fae1a780bbc4837b5e37dfb140f9a2e",
      "916679da74b84da09143c48f06f354f3",
      "defb5564e1c9426e868e985bd2722e5e",
      "2618acc73f2241fb96bc3ed1a15ac26d",
      "d292d3eb87bd492bbb6f9d04b6c42a4b",
      "c353f30f99214e4e85d99080d1b4f9da",
      "628fb4cb47a04b1d8f30a207125b4353",
      "bc6fbfb8b52a430d91421352cebb7f4b",
      "5943ccf10fb14c0ab0899b96558cf01f",
      "9c0082a6d0fa49cd963b4d17214e74ec",
      "738c72b685b14645a79d9938833fba48",
      "5d8b1cef85164ffbb26af228dc3c4141",
      "b7e9e2e0fbc840f4b1ce83fbce134205"
     ]
    },
    "id": "SxwrOBWrNgod",
    "outputId": "ac648925-6bbd-4c5e-dd3e-91f3b833a962"
   },
   "outputs": [
    {
     "name": "stderr",
     "output_type": "stream",
     "text": [
      "/usr/local/lib/python3.10/dist-packages/huggingface_hub/utils/_token.py:89: UserWarning: \n",
      "The secret `HF_TOKEN` does not exist in your Colab secrets.\n",
      "To authenticate with the Hugging Face Hub, create a token in your settings tab (https://huggingface.co/settings/tokens), set it as secret in your Google Colab and restart your session.\n",
      "You will be able to reuse this secret in all of your notebooks.\n",
      "Please note that authentication is recommended but still optional to access public models or datasets.\n",
      "  warnings.warn(\n"
     ]
    },
    {
     "data": {
      "application/vnd.jupyter.widget-view+json": {
       "model_id": "57427ead028449058af5f4471dc2001f",
       "version_major": 2,
       "version_minor": 0
      },
      "text/plain": [
       "Downloading readme:   0%|          | 0.00/4.68k [00:00<?, ?B/s]"
      ]
     },
     "metadata": {},
     "output_type": "display_data"
    },
    {
     "data": {
      "application/vnd.jupyter.widget-view+json": {
       "model_id": "49932200caba40e1a0474e3a91c28dcb",
       "version_major": 2,
       "version_minor": 0
      },
      "text/plain": [
       "Downloading data:   0%|          | 0.00/20.1M [00:00<?, ?B/s]"
      ]
     },
     "metadata": {},
     "output_type": "display_data"
    },
    {
     "data": {
      "application/vnd.jupyter.widget-view+json": {
       "model_id": "defb5564e1c9426e868e985bd2722e5e",
       "version_major": 2,
       "version_minor": 0
      },
      "text/plain": [
       "Generating train split:   0%|          | 0/114000 [00:00<?, ? examples/s]"
      ]
     },
     "metadata": {},
     "output_type": "display_data"
    }
   ],
   "source": [
    "# Load dataset\n",
    "song_dataset = load_dataset(\"maharshipandya/spotify-tracks-dataset\")\n",
    "\n",
    "# Convert to Pandas dataframe\n",
    "songs_df = pd.DataFrame(song_dataset[\"train\"])"
   ]
  },
  {
   "cell_type": "markdown",
   "metadata": {
    "id": "OGMO6NmbYxny"
   },
   "source": [
    "## 2.2 Basic Exploration & Cleaning\n",
    "Our data is a bit messy as we sourced it straight from the API without much care regarding what data we pulled. There is a high likelihood that there are useless features and duplicate rows."
   ]
  },
  {
   "cell_type": "code",
   "execution_count": 5,
   "metadata": {
    "colab": {
     "base_uri": "https://localhost:8080/",
     "height": 320
    },
    "id": "DW7YxSPGd1gM",
    "outputId": "d5fe148a-437b-40a7-fee5-3e38f0163b9c"
   },
   "outputs": [
    {
     "data": {
      "application/vnd.google.colaboratory.intrinsic+json": {
       "summary": "{\n  \"name\": \"songs_df\",\n  \"rows\": 8,\n  \"fields\": [\n    {\n      \"column\": \"Unnamed: 0\",\n      \"properties\": {\n        \"dtype\": \"number\",\n        \"std\": 41085.93257984935,\n        \"min\": 0.0,\n        \"max\": 114000.0,\n        \"num_unique_values\": 7,\n        \"samples\": [\n          114000.0,\n          56999.5,\n          85499.25\n        ],\n        \"semantic_type\": \"\",\n        \"description\": \"\"\n      }\n    },\n    {\n      \"column\": \"popularity\",\n      \"properties\": {\n        \"dtype\": \"number\",\n        \"std\": 40292.089497001354,\n        \"min\": 0.0,\n        \"max\": 114000.0,\n        \"num_unique_values\": 8,\n        \"samples\": [\n          33.2385350877193,\n          35.0,\n          114000.0\n        ],\n        \"semantic_type\": \"\",\n        \"description\": \"\"\n      }\n    },\n    {\n      \"column\": \"duration_ms\",\n      \"properties\": {\n        \"dtype\": \"number\",\n        \"std\": 1798137.6098388718,\n        \"min\": 0.0,\n        \"max\": 5237295.0,\n        \"num_unique_values\": 8,\n        \"samples\": [\n          228029.15311403509,\n          212906.0,\n          114000.0\n        ],\n        \"semantic_type\": \"\",\n        \"description\": \"\"\n      }\n    },\n    {\n      \"column\": \"danceability\",\n      \"properties\": {\n        \"dtype\": \"number\",\n        \"std\": 40304.91195712618,\n        \"min\": 0.0,\n        \"max\": 114000.0,\n        \"num_unique_values\": 8,\n        \"samples\": [\n          0.5668000657894738,\n          0.58,\n          114000.0\n        ],\n        \"semantic_type\": \"\",\n        \"description\": \"\"\n      }\n    },\n    {\n      \"column\": \"energy\",\n      \"properties\": {\n        \"dtype\": \"number\",\n        \"std\": 40304.88935158368,\n        \"min\": 0.0,\n        \"max\": 114000.0,\n        \"num_unique_values\": 8,\n        \"samples\": [\n          0.6413827583964912,\n          0.685,\n          114000.0\n        ],\n        \"semantic_type\": \"\",\n        \"description\": \"\"\n      }\n    },\n    {\n      \"column\": \"key\",\n      \"properties\": {\n        \"dtype\": \"number\",\n        \"std\": 40303.32551459074,\n        \"min\": 0.0,\n        \"max\": 114000.0,\n        \"num_unique_values\": 8,\n        \"samples\": [\n          5.309140350877193,\n          5.0,\n          114000.0\n        ],\n        \"semantic_type\": \"\",\n        \"description\": \"\"\n      }\n    },\n    {\n      \"column\": \"loudness\",\n      \"properties\": {\n        \"dtype\": \"number\",\n        \"std\": 40308.6382281007,\n        \"min\": -49.531,\n        \"max\": 114000.0,\n        \"num_unique_values\": 8,\n        \"samples\": [\n          -8.258960368421052,\n          -7.004,\n          114000.0\n        ],\n        \"semantic_type\": \"\",\n        \"description\": \"\"\n      }\n    },\n    {\n      \"column\": \"mode\",\n      \"properties\": {\n        \"dtype\": \"number\",\n        \"std\": 40304.87852615427,\n        \"min\": 0.0,\n        \"max\": 114000.0,\n        \"num_unique_values\": 5,\n        \"samples\": [\n          0.6375526315789474,\n          1.0,\n          0.4807091642299518\n        ],\n        \"semantic_type\": \"\",\n        \"description\": \"\"\n      }\n    },\n    {\n      \"column\": \"speechiness\",\n      \"properties\": {\n        \"dtype\": \"number\",\n        \"std\": 40305.01962222121,\n        \"min\": 0.0,\n        \"max\": 114000.0,\n        \"num_unique_values\": 8,\n        \"samples\": [\n          0.08465211228070177,\n          0.0489,\n          114000.0\n        ],\n        \"semantic_type\": \"\",\n        \"description\": \"\"\n      }\n    },\n    {\n      \"column\": \"acousticness\",\n      \"properties\": {\n        \"dtype\": \"number\",\n        \"std\": 40304.96393013772,\n        \"min\": 0.0,\n        \"max\": 114000.0,\n        \"num_unique_values\": 8,\n        \"samples\": [\n          0.3149100624799999,\n          0.169,\n          114000.0\n        ],\n        \"semantic_type\": \"\",\n        \"description\": \"\"\n      }\n    },\n    {\n      \"column\": \"instrumentalness\",\n      \"properties\": {\n        \"dtype\": \"number\",\n        \"std\": 40305.01002786438,\n        \"min\": 0.0,\n        \"max\": 114000.0,\n        \"num_unique_values\": 7,\n        \"samples\": [\n          114000.0,\n          0.15604958922122808,\n          0.049\n        ],\n        \"semantic_type\": \"\",\n        \"description\": \"\"\n      }\n    },\n    {\n      \"column\": \"liveness\",\n      \"properties\": {\n        \"dtype\": \"number\",\n        \"std\": 40304.9902142732,\n        \"min\": 0.0,\n        \"max\": 114000.0,\n        \"num_unique_values\": 8,\n        \"samples\": [\n          0.21355283605263162,\n          0.132,\n          114000.0\n        ],\n        \"semantic_type\": \"\",\n        \"description\": \"\"\n      }\n    },\n    {\n      \"column\": \"valence\",\n      \"properties\": {\n        \"dtype\": \"number\",\n        \"std\": 40304.92817070116,\n        \"min\": 0.0,\n        \"max\": 114000.0,\n        \"num_unique_values\": 8,\n        \"samples\": [\n          0.4740682309736842,\n          0.464,\n          114000.0\n        ],\n        \"semantic_type\": \"\",\n        \"description\": \"\"\n      }\n    },\n    {\n      \"column\": \"tempo\",\n      \"properties\": {\n        \"dtype\": \"number\",\n        \"std\": 40266.9287746078,\n        \"min\": 0.0,\n        \"max\": 114000.0,\n        \"num_unique_values\": 8,\n        \"samples\": [\n          122.14783728947369,\n          122.017,\n          114000.0\n        ],\n        \"semantic_type\": \"\",\n        \"description\": \"\"\n      }\n    },\n    {\n      \"column\": \"time_signature\",\n      \"properties\": {\n        \"dtype\": \"number\",\n        \"std\": 40304.00890522618,\n        \"min\": 0.0,\n        \"max\": 114000.0,\n        \"num_unique_values\": 6,\n        \"samples\": [\n          114000.0,\n          3.9040350877192984,\n          5.0\n        ],\n        \"semantic_type\": \"\",\n        \"description\": \"\"\n      }\n    }\n  ]\n}",
       "type": "dataframe"
      },
      "text/html": [
       "\n",
       "  <div id=\"df-05aca476-d03f-4fcf-b15d-49e25c934208\" class=\"colab-df-container\">\n",
       "    <div>\n",
       "<style scoped>\n",
       "    .dataframe tbody tr th:only-of-type {\n",
       "        vertical-align: middle;\n",
       "    }\n",
       "\n",
       "    .dataframe tbody tr th {\n",
       "        vertical-align: top;\n",
       "    }\n",
       "\n",
       "    .dataframe thead th {\n",
       "        text-align: right;\n",
       "    }\n",
       "</style>\n",
       "<table border=\"1\" class=\"dataframe\">\n",
       "  <thead>\n",
       "    <tr style=\"text-align: right;\">\n",
       "      <th></th>\n",
       "      <th>Unnamed: 0</th>\n",
       "      <th>popularity</th>\n",
       "      <th>duration_ms</th>\n",
       "      <th>danceability</th>\n",
       "      <th>energy</th>\n",
       "      <th>key</th>\n",
       "      <th>loudness</th>\n",
       "      <th>mode</th>\n",
       "      <th>speechiness</th>\n",
       "      <th>acousticness</th>\n",
       "      <th>instrumentalness</th>\n",
       "      <th>liveness</th>\n",
       "      <th>valence</th>\n",
       "      <th>tempo</th>\n",
       "      <th>time_signature</th>\n",
       "    </tr>\n",
       "  </thead>\n",
       "  <tbody>\n",
       "    <tr>\n",
       "      <th>count</th>\n",
       "      <td>114000.000000</td>\n",
       "      <td>114000.000000</td>\n",
       "      <td>1.140000e+05</td>\n",
       "      <td>114000.000000</td>\n",
       "      <td>114000.000000</td>\n",
       "      <td>114000.000000</td>\n",
       "      <td>114000.000000</td>\n",
       "      <td>114000.000000</td>\n",
       "      <td>114000.000000</td>\n",
       "      <td>114000.000000</td>\n",
       "      <td>114000.000000</td>\n",
       "      <td>114000.000000</td>\n",
       "      <td>114000.000000</td>\n",
       "      <td>114000.000000</td>\n",
       "      <td>114000.000000</td>\n",
       "    </tr>\n",
       "    <tr>\n",
       "      <th>mean</th>\n",
       "      <td>56999.500000</td>\n",
       "      <td>33.238535</td>\n",
       "      <td>2.280292e+05</td>\n",
       "      <td>0.566800</td>\n",
       "      <td>0.641383</td>\n",
       "      <td>5.309140</td>\n",
       "      <td>-8.258960</td>\n",
       "      <td>0.637553</td>\n",
       "      <td>0.084652</td>\n",
       "      <td>0.314910</td>\n",
       "      <td>0.156050</td>\n",
       "      <td>0.213553</td>\n",
       "      <td>0.474068</td>\n",
       "      <td>122.147837</td>\n",
       "      <td>3.904035</td>\n",
       "    </tr>\n",
       "    <tr>\n",
       "      <th>std</th>\n",
       "      <td>32909.109681</td>\n",
       "      <td>22.305078</td>\n",
       "      <td>1.072977e+05</td>\n",
       "      <td>0.173542</td>\n",
       "      <td>0.251529</td>\n",
       "      <td>3.559987</td>\n",
       "      <td>5.029337</td>\n",
       "      <td>0.480709</td>\n",
       "      <td>0.105732</td>\n",
       "      <td>0.332523</td>\n",
       "      <td>0.309555</td>\n",
       "      <td>0.190378</td>\n",
       "      <td>0.259261</td>\n",
       "      <td>29.978197</td>\n",
       "      <td>0.432621</td>\n",
       "    </tr>\n",
       "    <tr>\n",
       "      <th>min</th>\n",
       "      <td>0.000000</td>\n",
       "      <td>0.000000</td>\n",
       "      <td>0.000000e+00</td>\n",
       "      <td>0.000000</td>\n",
       "      <td>0.000000</td>\n",
       "      <td>0.000000</td>\n",
       "      <td>-49.531000</td>\n",
       "      <td>0.000000</td>\n",
       "      <td>0.000000</td>\n",
       "      <td>0.000000</td>\n",
       "      <td>0.000000</td>\n",
       "      <td>0.000000</td>\n",
       "      <td>0.000000</td>\n",
       "      <td>0.000000</td>\n",
       "      <td>0.000000</td>\n",
       "    </tr>\n",
       "    <tr>\n",
       "      <th>25%</th>\n",
       "      <td>28499.750000</td>\n",
       "      <td>17.000000</td>\n",
       "      <td>1.740660e+05</td>\n",
       "      <td>0.456000</td>\n",
       "      <td>0.472000</td>\n",
       "      <td>2.000000</td>\n",
       "      <td>-10.013000</td>\n",
       "      <td>0.000000</td>\n",
       "      <td>0.035900</td>\n",
       "      <td>0.016900</td>\n",
       "      <td>0.000000</td>\n",
       "      <td>0.098000</td>\n",
       "      <td>0.260000</td>\n",
       "      <td>99.218750</td>\n",
       "      <td>4.000000</td>\n",
       "    </tr>\n",
       "    <tr>\n",
       "      <th>50%</th>\n",
       "      <td>56999.500000</td>\n",
       "      <td>35.000000</td>\n",
       "      <td>2.129060e+05</td>\n",
       "      <td>0.580000</td>\n",
       "      <td>0.685000</td>\n",
       "      <td>5.000000</td>\n",
       "      <td>-7.004000</td>\n",
       "      <td>1.000000</td>\n",
       "      <td>0.048900</td>\n",
       "      <td>0.169000</td>\n",
       "      <td>0.000042</td>\n",
       "      <td>0.132000</td>\n",
       "      <td>0.464000</td>\n",
       "      <td>122.017000</td>\n",
       "      <td>4.000000</td>\n",
       "    </tr>\n",
       "    <tr>\n",
       "      <th>75%</th>\n",
       "      <td>85499.250000</td>\n",
       "      <td>50.000000</td>\n",
       "      <td>2.615060e+05</td>\n",
       "      <td>0.695000</td>\n",
       "      <td>0.854000</td>\n",
       "      <td>8.000000</td>\n",
       "      <td>-5.003000</td>\n",
       "      <td>1.000000</td>\n",
       "      <td>0.084500</td>\n",
       "      <td>0.598000</td>\n",
       "      <td>0.049000</td>\n",
       "      <td>0.273000</td>\n",
       "      <td>0.683000</td>\n",
       "      <td>140.071000</td>\n",
       "      <td>4.000000</td>\n",
       "    </tr>\n",
       "    <tr>\n",
       "      <th>max</th>\n",
       "      <td>113999.000000</td>\n",
       "      <td>100.000000</td>\n",
       "      <td>5.237295e+06</td>\n",
       "      <td>0.985000</td>\n",
       "      <td>1.000000</td>\n",
       "      <td>11.000000</td>\n",
       "      <td>4.532000</td>\n",
       "      <td>1.000000</td>\n",
       "      <td>0.965000</td>\n",
       "      <td>0.996000</td>\n",
       "      <td>1.000000</td>\n",
       "      <td>1.000000</td>\n",
       "      <td>0.995000</td>\n",
       "      <td>243.372000</td>\n",
       "      <td>5.000000</td>\n",
       "    </tr>\n",
       "  </tbody>\n",
       "</table>\n",
       "</div>\n",
       "    <div class=\"colab-df-buttons\">\n",
       "\n",
       "  <div class=\"colab-df-container\">\n",
       "    <button class=\"colab-df-convert\" onclick=\"convertToInteractive('df-05aca476-d03f-4fcf-b15d-49e25c934208')\"\n",
       "            title=\"Convert this dataframe to an interactive table.\"\n",
       "            style=\"display:none;\">\n",
       "\n",
       "  <svg xmlns=\"http://www.w3.org/2000/svg\" height=\"24px\" viewBox=\"0 -960 960 960\">\n",
       "    <path d=\"M120-120v-720h720v720H120Zm60-500h600v-160H180v160Zm220 220h160v-160H400v160Zm0 220h160v-160H400v160ZM180-400h160v-160H180v160Zm440 0h160v-160H620v160ZM180-180h160v-160H180v160Zm440 0h160v-160H620v160Z\"/>\n",
       "  </svg>\n",
       "    </button>\n",
       "\n",
       "  <style>\n",
       "    .colab-df-container {\n",
       "      display:flex;\n",
       "      gap: 12px;\n",
       "    }\n",
       "\n",
       "    .colab-df-convert {\n",
       "      background-color: #E8F0FE;\n",
       "      border: none;\n",
       "      border-radius: 50%;\n",
       "      cursor: pointer;\n",
       "      display: none;\n",
       "      fill: #1967D2;\n",
       "      height: 32px;\n",
       "      padding: 0 0 0 0;\n",
       "      width: 32px;\n",
       "    }\n",
       "\n",
       "    .colab-df-convert:hover {\n",
       "      background-color: #E2EBFA;\n",
       "      box-shadow: 0px 1px 2px rgba(60, 64, 67, 0.3), 0px 1px 3px 1px rgba(60, 64, 67, 0.15);\n",
       "      fill: #174EA6;\n",
       "    }\n",
       "\n",
       "    .colab-df-buttons div {\n",
       "      margin-bottom: 4px;\n",
       "    }\n",
       "\n",
       "    [theme=dark] .colab-df-convert {\n",
       "      background-color: #3B4455;\n",
       "      fill: #D2E3FC;\n",
       "    }\n",
       "\n",
       "    [theme=dark] .colab-df-convert:hover {\n",
       "      background-color: #434B5C;\n",
       "      box-shadow: 0px 1px 3px 1px rgba(0, 0, 0, 0.15);\n",
       "      filter: drop-shadow(0px 1px 2px rgba(0, 0, 0, 0.3));\n",
       "      fill: #FFFFFF;\n",
       "    }\n",
       "  </style>\n",
       "\n",
       "    <script>\n",
       "      const buttonEl =\n",
       "        document.querySelector('#df-05aca476-d03f-4fcf-b15d-49e25c934208 button.colab-df-convert');\n",
       "      buttonEl.style.display =\n",
       "        google.colab.kernel.accessAllowed ? 'block' : 'none';\n",
       "\n",
       "      async function convertToInteractive(key) {\n",
       "        const element = document.querySelector('#df-05aca476-d03f-4fcf-b15d-49e25c934208');\n",
       "        const dataTable =\n",
       "          await google.colab.kernel.invokeFunction('convertToInteractive',\n",
       "                                                    [key], {});\n",
       "        if (!dataTable) return;\n",
       "\n",
       "        const docLinkHtml = 'Like what you see? Visit the ' +\n",
       "          '<a target=\"_blank\" href=https://colab.research.google.com/notebooks/data_table.ipynb>data table notebook</a>'\n",
       "          + ' to learn more about interactive tables.';\n",
       "        element.innerHTML = '';\n",
       "        dataTable['output_type'] = 'display_data';\n",
       "        await google.colab.output.renderOutput(dataTable, element);\n",
       "        const docLink = document.createElement('div');\n",
       "        docLink.innerHTML = docLinkHtml;\n",
       "        element.appendChild(docLink);\n",
       "      }\n",
       "    </script>\n",
       "  </div>\n",
       "\n",
       "\n",
       "<div id=\"df-590f7fbd-1582-4705-96d7-7626e1e4360c\">\n",
       "  <button class=\"colab-df-quickchart\" onclick=\"quickchart('df-590f7fbd-1582-4705-96d7-7626e1e4360c')\"\n",
       "            title=\"Suggest charts\"\n",
       "            style=\"display:none;\">\n",
       "\n",
       "<svg xmlns=\"http://www.w3.org/2000/svg\" height=\"24px\"viewBox=\"0 0 24 24\"\n",
       "     width=\"24px\">\n",
       "    <g>\n",
       "        <path d=\"M19 3H5c-1.1 0-2 .9-2 2v14c0 1.1.9 2 2 2h14c1.1 0 2-.9 2-2V5c0-1.1-.9-2-2-2zM9 17H7v-7h2v7zm4 0h-2V7h2v10zm4 0h-2v-4h2v4z\"/>\n",
       "    </g>\n",
       "</svg>\n",
       "  </button>\n",
       "\n",
       "<style>\n",
       "  .colab-df-quickchart {\n",
       "      --bg-color: #E8F0FE;\n",
       "      --fill-color: #1967D2;\n",
       "      --hover-bg-color: #E2EBFA;\n",
       "      --hover-fill-color: #174EA6;\n",
       "      --disabled-fill-color: #AAA;\n",
       "      --disabled-bg-color: #DDD;\n",
       "  }\n",
       "\n",
       "  [theme=dark] .colab-df-quickchart {\n",
       "      --bg-color: #3B4455;\n",
       "      --fill-color: #D2E3FC;\n",
       "      --hover-bg-color: #434B5C;\n",
       "      --hover-fill-color: #FFFFFF;\n",
       "      --disabled-bg-color: #3B4455;\n",
       "      --disabled-fill-color: #666;\n",
       "  }\n",
       "\n",
       "  .colab-df-quickchart {\n",
       "    background-color: var(--bg-color);\n",
       "    border: none;\n",
       "    border-radius: 50%;\n",
       "    cursor: pointer;\n",
       "    display: none;\n",
       "    fill: var(--fill-color);\n",
       "    height: 32px;\n",
       "    padding: 0;\n",
       "    width: 32px;\n",
       "  }\n",
       "\n",
       "  .colab-df-quickchart:hover {\n",
       "    background-color: var(--hover-bg-color);\n",
       "    box-shadow: 0 1px 2px rgba(60, 64, 67, 0.3), 0 1px 3px 1px rgba(60, 64, 67, 0.15);\n",
       "    fill: var(--button-hover-fill-color);\n",
       "  }\n",
       "\n",
       "  .colab-df-quickchart-complete:disabled,\n",
       "  .colab-df-quickchart-complete:disabled:hover {\n",
       "    background-color: var(--disabled-bg-color);\n",
       "    fill: var(--disabled-fill-color);\n",
       "    box-shadow: none;\n",
       "  }\n",
       "\n",
       "  .colab-df-spinner {\n",
       "    border: 2px solid var(--fill-color);\n",
       "    border-color: transparent;\n",
       "    border-bottom-color: var(--fill-color);\n",
       "    animation:\n",
       "      spin 1s steps(1) infinite;\n",
       "  }\n",
       "\n",
       "  @keyframes spin {\n",
       "    0% {\n",
       "      border-color: transparent;\n",
       "      border-bottom-color: var(--fill-color);\n",
       "      border-left-color: var(--fill-color);\n",
       "    }\n",
       "    20% {\n",
       "      border-color: transparent;\n",
       "      border-left-color: var(--fill-color);\n",
       "      border-top-color: var(--fill-color);\n",
       "    }\n",
       "    30% {\n",
       "      border-color: transparent;\n",
       "      border-left-color: var(--fill-color);\n",
       "      border-top-color: var(--fill-color);\n",
       "      border-right-color: var(--fill-color);\n",
       "    }\n",
       "    40% {\n",
       "      border-color: transparent;\n",
       "      border-right-color: var(--fill-color);\n",
       "      border-top-color: var(--fill-color);\n",
       "    }\n",
       "    60% {\n",
       "      border-color: transparent;\n",
       "      border-right-color: var(--fill-color);\n",
       "    }\n",
       "    80% {\n",
       "      border-color: transparent;\n",
       "      border-right-color: var(--fill-color);\n",
       "      border-bottom-color: var(--fill-color);\n",
       "    }\n",
       "    90% {\n",
       "      border-color: transparent;\n",
       "      border-bottom-color: var(--fill-color);\n",
       "    }\n",
       "  }\n",
       "</style>\n",
       "\n",
       "  <script>\n",
       "    async function quickchart(key) {\n",
       "      const quickchartButtonEl =\n",
       "        document.querySelector('#' + key + ' button');\n",
       "      quickchartButtonEl.disabled = true;  // To prevent multiple clicks.\n",
       "      quickchartButtonEl.classList.add('colab-df-spinner');\n",
       "      try {\n",
       "        const charts = await google.colab.kernel.invokeFunction(\n",
       "            'suggestCharts', [key], {});\n",
       "      } catch (error) {\n",
       "        console.error('Error during call to suggestCharts:', error);\n",
       "      }\n",
       "      quickchartButtonEl.classList.remove('colab-df-spinner');\n",
       "      quickchartButtonEl.classList.add('colab-df-quickchart-complete');\n",
       "    }\n",
       "    (() => {\n",
       "      let quickchartButtonEl =\n",
       "        document.querySelector('#df-590f7fbd-1582-4705-96d7-7626e1e4360c button');\n",
       "      quickchartButtonEl.style.display =\n",
       "        google.colab.kernel.accessAllowed ? 'block' : 'none';\n",
       "    })();\n",
       "  </script>\n",
       "</div>\n",
       "    </div>\n",
       "  </div>\n"
      ],
      "text/plain": [
       "          Unnamed: 0     popularity   duration_ms   danceability  \\\n",
       "count  114000.000000  114000.000000  1.140000e+05  114000.000000   \n",
       "mean    56999.500000      33.238535  2.280292e+05       0.566800   \n",
       "std     32909.109681      22.305078  1.072977e+05       0.173542   \n",
       "min         0.000000       0.000000  0.000000e+00       0.000000   \n",
       "25%     28499.750000      17.000000  1.740660e+05       0.456000   \n",
       "50%     56999.500000      35.000000  2.129060e+05       0.580000   \n",
       "75%     85499.250000      50.000000  2.615060e+05       0.695000   \n",
       "max    113999.000000     100.000000  5.237295e+06       0.985000   \n",
       "\n",
       "              energy            key       loudness           mode  \\\n",
       "count  114000.000000  114000.000000  114000.000000  114000.000000   \n",
       "mean        0.641383       5.309140      -8.258960       0.637553   \n",
       "std         0.251529       3.559987       5.029337       0.480709   \n",
       "min         0.000000       0.000000     -49.531000       0.000000   \n",
       "25%         0.472000       2.000000     -10.013000       0.000000   \n",
       "50%         0.685000       5.000000      -7.004000       1.000000   \n",
       "75%         0.854000       8.000000      -5.003000       1.000000   \n",
       "max         1.000000      11.000000       4.532000       1.000000   \n",
       "\n",
       "         speechiness   acousticness  instrumentalness       liveness  \\\n",
       "count  114000.000000  114000.000000     114000.000000  114000.000000   \n",
       "mean        0.084652       0.314910          0.156050       0.213553   \n",
       "std         0.105732       0.332523          0.309555       0.190378   \n",
       "min         0.000000       0.000000          0.000000       0.000000   \n",
       "25%         0.035900       0.016900          0.000000       0.098000   \n",
       "50%         0.048900       0.169000          0.000042       0.132000   \n",
       "75%         0.084500       0.598000          0.049000       0.273000   \n",
       "max         0.965000       0.996000          1.000000       1.000000   \n",
       "\n",
       "             valence          tempo  time_signature  \n",
       "count  114000.000000  114000.000000   114000.000000  \n",
       "mean        0.474068     122.147837        3.904035  \n",
       "std         0.259261      29.978197        0.432621  \n",
       "min         0.000000       0.000000        0.000000  \n",
       "25%         0.260000      99.218750        4.000000  \n",
       "50%         0.464000     122.017000        4.000000  \n",
       "75%         0.683000     140.071000        4.000000  \n",
       "max         0.995000     243.372000        5.000000  "
      ]
     },
     "execution_count": 5,
     "metadata": {},
     "output_type": "execute_result"
    }
   ],
   "source": [
    "# Get general sense of numeric features\n",
    "songs_df.describe()"
   ]
  },
  {
   "cell_type": "code",
   "execution_count": 6,
   "metadata": {
    "colab": {
     "base_uri": "https://localhost:8080/"
    },
    "id": "BjHsLkcqbAda",
    "outputId": "c5b7be86-4f35-43fb-dd6a-02f421e0aff3"
   },
   "outputs": [
    {
     "name": "stdout",
     "output_type": "stream",
     "text": [
      "<class 'pandas.core.frame.DataFrame'>\n",
      "RangeIndex: 114000 entries, 0 to 113999\n",
      "Data columns (total 21 columns):\n",
      " #   Column            Non-Null Count   Dtype  \n",
      "---  ------            --------------   -----  \n",
      " 0   Unnamed: 0        114000 non-null  int64  \n",
      " 1   track_id          114000 non-null  object \n",
      " 2   artists           113999 non-null  object \n",
      " 3   album_name        113999 non-null  object \n",
      " 4   track_name        113999 non-null  object \n",
      " 5   popularity        114000 non-null  int64  \n",
      " 6   duration_ms       114000 non-null  int64  \n",
      " 7   explicit          114000 non-null  bool   \n",
      " 8   danceability      114000 non-null  float64\n",
      " 9   energy            114000 non-null  float64\n",
      " 10  key               114000 non-null  int64  \n",
      " 11  loudness          114000 non-null  float64\n",
      " 12  mode              114000 non-null  int64  \n",
      " 13  speechiness       114000 non-null  float64\n",
      " 14  acousticness      114000 non-null  float64\n",
      " 15  instrumentalness  114000 non-null  float64\n",
      " 16  liveness          114000 non-null  float64\n",
      " 17  valence           114000 non-null  float64\n",
      " 18  tempo             114000 non-null  float64\n",
      " 19  time_signature    114000 non-null  int64  \n",
      " 20  track_genre       114000 non-null  object \n",
      "dtypes: bool(1), float64(9), int64(6), object(5)\n",
      "memory usage: 17.5+ MB\n"
     ]
    }
   ],
   "source": [
    "# Features data of songs_df\n",
    "songs_df.info()"
   ]
  },
  {
   "cell_type": "code",
   "execution_count": 7,
   "metadata": {
    "colab": {
     "base_uri": "https://localhost:8080/"
    },
    "id": "4BsUoKssZew3",
    "outputId": "fdbcb7c2-2d82-4e06-d267-66506eaa16c6"
   },
   "outputs": [
    {
     "name": "stdout",
     "output_type": "stream",
     "text": [
      "Total Number of Songs:  114000\n",
      "Unique Track IDs:  89741\n"
     ]
    }
   ],
   "source": [
    "# Compare number of unique tracks with total rows\n",
    "unique_ids = songs_df[\"track_id\"].nunique()\n",
    "total_rows = len(songs_df.index)\n",
    "\n",
    "print(\"Total Number of Songs: \", total_rows)\n",
    "print(\"Unique Track IDs: \", unique_ids)"
   ]
  },
  {
   "cell_type": "markdown",
   "metadata": {
    "id": "UYmmlbCZeOak"
   },
   "source": [
    "From our basic EDA, we found that there are thousands of duplicate songs."
   ]
  },
  {
   "cell_type": "code",
   "execution_count": 8,
   "metadata": {
    "id": "cF2_17vpA8li"
   },
   "outputs": [],
   "source": [
    "# Drop duplicate rows based on track id\n",
    "songs_cleaned_df = songs_df.drop_duplicates(subset=[\"track_id\"]).reset_index(drop = True)"
   ]
  },
  {
   "cell_type": "markdown",
   "metadata": {
    "id": "h2Y3L5NoesQp"
   },
   "source": [
    "Furthermore, the explicit column contains boolean data. We can easily convert this to 0's and 1's for the models to understand it better."
   ]
  },
  {
   "cell_type": "code",
   "execution_count": 9,
   "metadata": {
    "id": "NdU0mNNNfHhw"
   },
   "outputs": [],
   "source": [
    "# Convert boolean data to numerical data\n",
    "songs_cleaned_df['explicit'] = songs_cleaned_df['explicit'].astype(int)"
   ]
  },
  {
   "cell_type": "markdown",
   "metadata": {
    "id": "X2gFYqknmW2f"
   },
   "source": [
    "## 2.3 Dropping Features\n",
    "There's a couple features that we decided to drop because we thought they would be unhelpful or insignificant.\n",
    "\n"
   ]
  },
  {
   "cell_type": "markdown",
   "metadata": {
    "id": "DTDMCHdE4jNN"
   },
   "source": [
    "`Unnamed: 0`: This feature is the same as the row number and doesn't serve any other purpose."
   ]
  },
  {
   "cell_type": "code",
   "execution_count": 10,
   "metadata": {
    "id": "0Rdy1JeF4zuP"
   },
   "outputs": [],
   "source": [
    "songs_cleaned_df = songs_cleaned_df.drop(\"Unnamed: 0\", axis=1).reset_index(drop=True)"
   ]
  },
  {
   "cell_type": "markdown",
   "metadata": {
    "id": "IpcEiJuOoQk6"
   },
   "source": [
    "`track_id`: We decided to drop `track_id` because this is just a unique string used to identify tracks within Spotify's database. They aren't shown to a user and even if they were, users likely wouldn't be able to draw any information from the ID."
   ]
  },
  {
   "cell_type": "code",
   "execution_count": 11,
   "metadata": {
    "id": "I01dqd3Mooig"
   },
   "outputs": [],
   "source": [
    "songs_cleaned_df = songs_cleaned_df.drop(\"track_id\", axis=1).reset_index(drop=True)"
   ]
  },
  {
   "cell_type": "markdown",
   "metadata": {
    "id": "zAnftXqno7Xe"
   },
   "source": [
    "`track_name` and `album_name`: We decided to drop `track_name` because they aren't unique. Nonstop by Drake is wildly popular, but Nonstop by Quevedo is not. What a song is named does not seem to have a significant effect on how popular it is. It's pretty reasonable to assume Drake could name one of his songs by smashing a keyboard and it'd be infinitely more popular than something you or I might release.  A similar idea can be applied to `album_name`."
   ]
  },
  {
   "cell_type": "code",
   "execution_count": 12,
   "metadata": {
    "id": "ASrt91jur33U"
   },
   "outputs": [],
   "source": [
    "songs_cleaned_df = songs_cleaned_df.drop([\"track_name\", \"album_name\"], axis=1).reset_index(drop=True)"
   ]
  },
  {
   "cell_type": "markdown",
   "metadata": {
    "id": "FDk1iNuUUM_4"
   },
   "source": [
    "`artists`: We decided to drop artists for two reasons. The first is that we couldn't find a good way to encode it. There's about 30,000 unique artists in our data set so options like one-hot encoding aren't feasible. There isn't a clear ranking among them either so we can't use ordinal or label encoding. We considered target encoding as well, but we thought that creating a feature that was the average popularity of their respective catalogues would correlate too strongly with popularity itself. Our model would mostly rely on artists to predict the outcome and we wouln't be really getting any new information. We also tried to find a data set listing artist popularity , but we couldn't find one with close to the same number of artists as we had in our data set.\n",
    "\n",
    "The second reason we dropped artists was because we thought it would be too predictive. Later we'll show that most of the features in our data set don't really correlate directly with popularity, but we have plenty of reason to believe that artists would. As such, we feel that our models would essentially just be predicting artists with a little bit extra information added in, rather than making any novel predictions using the rest of the data."
   ]
  },
  {
   "cell_type": "code",
   "execution_count": 13,
   "metadata": {
    "id": "l5rsxUaKYn07"
   },
   "outputs": [],
   "source": [
    "songs_cleaned_df = songs_cleaned_df.drop([\"artists\"], axis=1).reset_index(drop=True)"
   ]
  },
  {
   "cell_type": "markdown",
   "metadata": {
    "id": "xA__c1k_f45S"
   },
   "source": [
    "# Part 3: Exploratory Data Analysis"
   ]
  },
  {
   "cell_type": "markdown",
   "metadata": {
    "id": "D92RRuSJgCjF"
   },
   "source": [
    "## 3.1 Popularity Distribution\n",
    "After doing some basic analysis and cleaning on our data, we decided to delve deeper into various aspects of our data. The first thing we thought of was that our data might be imbalanced. The vast majority of songs aren't going to be hits. If everything is a hit, nothing is a hit. Thus, we decided to plot the distribution of our target feature, popularity."
   ]
  },
  {
   "cell_type": "code",
   "execution_count": 14,
   "metadata": {
    "colab": {
     "base_uri": "https://localhost:8080/",
     "height": 472
    },
    "id": "r_zzFtiigMBY",
    "outputId": "c82e3cd8-9d08-4d42-eeca-da5f1fe351ec"
   },
   "outputs": [
    {
     "data": {
      "image/png": "[encoded data removed]",
      "text/plain": [
       "<Figure size 640x480 with 1 Axes>"
      ]
     },
     "metadata": {},
     "output_type": "display_data"
    }
   ],
   "source": [
    "# distribution of track popularity\n",
    "sns.histplot(data=songs_cleaned_df, x='popularity', bins=50)\n",
    "\n",
    "# Set titles and labels\n",
    "plt.title('Distribution of Track Popularity')\n",
    "plt.xlabel('Popularity')\n",
    "plt.ylabel('Number of Songs')\n",
    "\n",
    "# Show plot\n",
    "plt.show()"
   ]
  },
  {
   "cell_type": "markdown",
   "metadata": {
    "id": "X_CJ2mAlkvFU"
   },
   "source": [
    "As predicted, the data is extremely skewed, with songs with a popularity of at least 80 comprising less than 1% of the total data and songs with popularity 0 comprising more than 10% of the data. This is something we will have to account for later.\n",
    "\n",
    "## 3.2 Popularity Across Genres\n",
    "One feature we thought about dropping was track_genre. We initially thought that there there would be reasonably similar distributions of popularity across genres. However, after creating violin plots (pictured below) of several popularity distributions, we discovered this was not the case."
   ]
  },
  {
   "cell_type": "code",
   "execution_count": 15,
   "metadata": {
    "colab": {
     "base_uri": "https://localhost:8080/",
     "height": 404
    },
    "id": "XNnOgNV8wadV",
    "outputId": "ca5a7187-70a2-4566-df7d-94445174ad4c"
   },
   "outputs": [
    {
     "data": {
      "image/png": "[encoded data removed]",
      "text/plain": [
       "<Figure size 1500x500 with 3 Axes>"
      ]
     },
     "metadata": {},
     "output_type": "display_data"
    }
   ],
   "source": [
    "# Plot popularity of various genres\n",
    "fig, axes = plt.subplots(nrows=1, ncols=3, figsize=(15, 5), sharey=True)\n",
    "\n",
    "for i, ax in enumerate(axes):\n",
    "    # Filter data for the current subplot\n",
    "    genre_subset = songs_cleaned_df[\"track_genre\"].unique()[i*3 : (i+1)*3]\n",
    "    subset_df = songs_cleaned_df[songs_cleaned_df['track_genre'].isin(genre_subset)]\n",
    "\n",
    "    # Create violin plot for the current subplot\n",
    "    sns.violinplot(x='track_genre', y='popularity', data=subset_df, ax=ax)\n",
    "    ax.set_title(f'Genres {i*3+1}-{(i+1)*3}')\n",
    "    ax.set_xlabel('')\n",
    "    ax.set_ylabel('Popularity')\n",
    "\n",
    "plt.tight_layout()\n",
    "plt.show()"
   ]
  },
  {
   "cell_type": "markdown",
   "metadata": {
    "id": "SozS6GNMvYV1"
   },
   "source": [
    "Popularity distributions vary greatly across genre so we thought it'd be best to leave it in the data as it could improve our model's predictive ability. It is a categorical variable so we will have to find some way to encode it."
   ]
  },
  {
   "cell_type": "markdown",
   "metadata": {
    "id": "oAbnM4Jm2Lsu"
   },
   "source": [
    "## 3.3 Feature Correlation\n",
    "We also thought that several features may be reasonably correlated with each other. Things like mode and valence, loudness, and energy, and tempo and liveliness are examples of things that could plausibly be related. We decided to create a heat map to explore the multicolinearity of the numerical features."
   ]
  },
  {
   "cell_type": "code",
   "execution_count": 16,
   "metadata": {
    "colab": {
     "base_uri": "https://localhost:8080/",
     "height": 882
    },
    "id": "sVtpefG627mn",
    "outputId": "51376b59-5407-4b72-f654-6744945d46f6"
   },
   "outputs": [
    {
     "data": {
      "image/png": "[encoded data removed]",
      "text/plain": [
       "<Figure size 900x900 with 2 Axes>"
      ]
     },
     "metadata": {},
     "output_type": "display_data"
    }
   ],
   "source": [
    "numerical_data = songs_cleaned_df.drop([\"track_genre\"], axis=1).reset_index(drop=True)\n",
    "\n",
    "correlation_matrix = numerical_data.corr()\n",
    "\n",
    "plt.figure(figsize=(9, 9))\n",
    "sns.heatmap(correlation_matrix, annot=True, cmap='coolwarm', fmt=\".2f\")\n",
    "plt.title('Multicollinearity Heatmap')\n",
    "plt.show()"
   ]
  },
  {
   "cell_type": "markdown",
   "metadata": {
    "id": "9wqX0JT25lHM"
   },
   "source": [
    "The heat map shows that loudness and energy are pretty strongly correlated which might pose some issues, but this can be corrected for."
   ]
  },
  {
   "cell_type": "markdown",
   "metadata": {
    "id": "bv2GCDmkqC_i"
   },
   "source": [
    "## 3.4 Genre Counts\n",
    "We wanted to make sure that there were a sufficient number of tracks in each genre if we were going to include it in our model. Our fear was that if a certain genre only had 5 or 10 songs that were extreme outliers in popularity, then the model would ultimately not be able to predict songs of these genre well.\n"
   ]
  },
  {
   "cell_type": "code",
   "execution_count": 17,
   "metadata": {
    "colab": {
     "base_uri": "https://localhost:8080/",
     "height": 617
    },
    "id": "1F8HsIgbEWc-",
    "outputId": "818274a1-eaa7-4f1f-cc3c-60a6ef7a76e1"
   },
   "outputs": [
    {
     "data": {
      "image/png": "[encoded data removed]",
      "text/plain": [
       "<Figure size 1000x600 with 1 Axes>"
      ]
     },
     "metadata": {},
     "output_type": "display_data"
    }
   ],
   "source": [
    "genre_counts = songs_cleaned_df['track_genre'].value_counts()\n",
    "\n",
    "# Calculate quantiles\n",
    "quantiles = np.linspace(0, 1, 20)  # Generates an array from 0% to 100% in steps of 5%\n",
    "genre_quantiles = genre_counts.quantile(quantiles)  # Calculate the count at each quantile\n",
    "\n",
    "# Select genres closest to each quantile's value\n",
    "selected_genres = {}\n",
    "for q in quantiles:\n",
    "    closest_genre = genre_counts.iloc[(genre_counts - genre_quantiles[q]).abs().argsort()[:1]]\n",
    "    selected_genres[closest_genre.index[0]] = closest_genre.iloc[0]\n",
    "\n",
    "# Plotting the selected genres\n",
    "plt.figure(figsize=(10, 6))\n",
    "bars = plt.bar(selected_genres.keys(), selected_genres.values(), alpha=0.8)\n",
    "plt.title('Selected Genres with Varied Number of Tracks')\n",
    "plt.xlabel('Genre')\n",
    "plt.ylabel('Number of Tracks')\n",
    "plt.xticks(rotation=45)\n",
    "plt.show()"
   ]
  },
  {
   "cell_type": "markdown",
   "metadata": {
    "id": "LVU8_CcZqg3N"
   },
   "source": [
    "What we found that the genre with the smallest number of songs was reggaeton, with over 70 songs. This alleviated a lot of concerns and we also found that the vast majority of genres had hundreds of songs."
   ]
  },
  {
   "cell_type": "markdown",
   "metadata": {
    "id": "uyItkCUu8Qwc"
   },
   "source": [
    "# Part 4: Feature Engineering & Preprocessing\n",
    "Our data contains a categorical feature: `track_genre`. We experimented with other encoding types but decided to use one-hot encoding over other types of encoding. This is because there is no clear ranked relationship between genres and something like target encoding performed poorly due to imbalances in the number of tracks in each genre.\n",
    "\n",
    "We also decided to employ PCA because after doing one-hot encoding, we'd have hundreds of features in our data which could lead to overfitting. PCA also addresses our potential multicolinearity issues. The scaling required for PCA can also potentially help correct our data skew issue."
   ]
  },
  {
   "cell_type": "markdown",
   "metadata": {
    "id": "GLE6tHifCKAy"
   },
   "source": [
    "## 4.1 One-Hot Encoding\n"
   ]
  },
  {
   "cell_type": "markdown",
   "metadata": {
    "id": "brEzdATQa2KD"
   },
   "source": [
    "We had two options when deciding how to go about one-hot encoding. We could either use the OneHotEncoder for SciKit Learn or the Pandas function get_dummies. We decided to use the get_dummies because it would be easier to integrate with the Pandas dataframes we are already using."
   ]
  },
  {
   "cell_type": "code",
   "execution_count": 18,
   "metadata": {
    "colab": {
     "base_uri": "https://localhost:8080/"
    },
    "id": "H0xXoDqoYvvf",
    "outputId": "22b2e608-269b-4ee0-ad2d-f498420816d6"
   },
   "outputs": [
    {
     "name": "stdout",
     "output_type": "stream",
     "text": [
      "<class 'pandas.core.frame.DataFrame'>\n",
      "RangeIndex: 89741 entries, 0 to 89740\n",
      "Data columns (total 16 columns):\n",
      " #   Column            Non-Null Count  Dtype  \n",
      "---  ------            --------------  -----  \n",
      " 0   popularity        89741 non-null  int64  \n",
      " 1   duration_ms       89741 non-null  int64  \n",
      " 2   explicit          89741 non-null  int64  \n",
      " 3   danceability      89741 non-null  float64\n",
      " 4   energy            89741 non-null  float64\n",
      " 5   key               89741 non-null  int64  \n",
      " 6   loudness          89741 non-null  float64\n",
      " 7   mode              89741 non-null  int64  \n",
      " 8   speechiness       89741 non-null  float64\n",
      " 9   acousticness      89741 non-null  float64\n",
      " 10  instrumentalness  89741 non-null  float64\n",
      " 11  liveness          89741 non-null  float64\n",
      " 12  valence           89741 non-null  float64\n",
      " 13  tempo             89741 non-null  float64\n",
      " 14  time_signature    89741 non-null  int64  \n",
      " 15  track_genre       89741 non-null  object \n",
      "dtypes: float64(9), int64(6), object(1)\n",
      "memory usage: 11.0+ MB\n"
     ]
    }
   ],
   "source": [
    "# Check for any null values\n",
    "songs_cleaned_df.info()"
   ]
  },
  {
   "cell_type": "code",
   "execution_count": 19,
   "metadata": {
    "id": "1GfsmuPXIbse"
   },
   "outputs": [],
   "source": [
    "# Create one-hot genres column\n",
    "one_hot_df = pd.get_dummies(songs_cleaned_df, columns=[\"track_genre\"], dtype=int)"
   ]
  },
  {
   "cell_type": "code",
   "execution_count": 20,
   "metadata": {
    "colab": {
     "base_uri": "https://localhost:8080/",
     "height": 429
    },
    "id": "9Rt0V-gscjJN",
    "outputId": "09384761-7991-4902-b06a-a0789e90c904"
   },
   "outputs": [
    {
     "data": {
      "application/vnd.google.colaboratory.intrinsic+json": {
       "type": "dataframe",
       "variable_name": "one_hot_df"
      },
      "text/html": [
       "\n",
       "  <div id=\"df-da827ae0-c61b-4956-89fb-c504b424fd97\" class=\"colab-df-container\">\n",
       "    <div>\n",
       "<style scoped>\n",
       "    .dataframe tbody tr th:only-of-type {\n",
       "        vertical-align: middle;\n",
       "    }\n",
       "\n",
       "    .dataframe tbody tr th {\n",
       "        vertical-align: top;\n",
       "    }\n",
       "\n",
       "    .dataframe thead th {\n",
       "        text-align: right;\n",
       "    }\n",
       "</style>\n",
       "<table border=\"1\" class=\"dataframe\">\n",
       "  <thead>\n",
       "    <tr style=\"text-align: right;\">\n",
       "      <th></th>\n",
       "      <th>popularity</th>\n",
       "      <th>duration_ms</th>\n",
       "      <th>explicit</th>\n",
       "      <th>danceability</th>\n",
       "      <th>energy</th>\n",
       "      <th>key</th>\n",
       "      <th>loudness</th>\n",
       "      <th>mode</th>\n",
       "      <th>speechiness</th>\n",
       "      <th>acousticness</th>\n",
       "      <th>...</th>\n",
       "      <th>track_genre_spanish</th>\n",
       "      <th>track_genre_study</th>\n",
       "      <th>track_genre_swedish</th>\n",
       "      <th>track_genre_synth-pop</th>\n",
       "      <th>track_genre_tango</th>\n",
       "      <th>track_genre_techno</th>\n",
       "      <th>track_genre_trance</th>\n",
       "      <th>track_genre_trip-hop</th>\n",
       "      <th>track_genre_turkish</th>\n",
       "      <th>track_genre_world-music</th>\n",
       "    </tr>\n",
       "  </thead>\n",
       "  <tbody>\n",
       "    <tr>\n",
       "      <th>0</th>\n",
       "      <td>73</td>\n",
       "      <td>230666</td>\n",
       "      <td>0</td>\n",
       "      <td>0.676</td>\n",
       "      <td>0.4610</td>\n",
       "      <td>1</td>\n",
       "      <td>-6.746</td>\n",
       "      <td>0</td>\n",
       "      <td>0.1430</td>\n",
       "      <td>0.0322</td>\n",
       "      <td>...</td>\n",
       "      <td>0</td>\n",
       "      <td>0</td>\n",
       "      <td>0</td>\n",
       "      <td>0</td>\n",
       "      <td>0</td>\n",
       "      <td>0</td>\n",
       "      <td>0</td>\n",
       "      <td>0</td>\n",
       "      <td>0</td>\n",
       "      <td>0</td>\n",
       "    </tr>\n",
       "    <tr>\n",
       "      <th>1</th>\n",
       "      <td>55</td>\n",
       "      <td>149610</td>\n",
       "      <td>0</td>\n",
       "      <td>0.420</td>\n",
       "      <td>0.1660</td>\n",
       "      <td>1</td>\n",
       "      <td>-17.235</td>\n",
       "      <td>1</td>\n",
       "      <td>0.0763</td>\n",
       "      <td>0.9240</td>\n",
       "      <td>...</td>\n",
       "      <td>0</td>\n",
       "      <td>0</td>\n",
       "      <td>0</td>\n",
       "      <td>0</td>\n",
       "      <td>0</td>\n",
       "      <td>0</td>\n",
       "      <td>0</td>\n",
       "      <td>0</td>\n",
       "      <td>0</td>\n",
       "      <td>0</td>\n",
       "    </tr>\n",
       "    <tr>\n",
       "      <th>2</th>\n",
       "      <td>57</td>\n",
       "      <td>210826</td>\n",
       "      <td>0</td>\n",
       "      <td>0.438</td>\n",
       "      <td>0.3590</td>\n",
       "      <td>0</td>\n",
       "      <td>-9.734</td>\n",
       "      <td>1</td>\n",
       "      <td>0.0557</td>\n",
       "      <td>0.2100</td>\n",
       "      <td>...</td>\n",
       "      <td>0</td>\n",
       "      <td>0</td>\n",
       "      <td>0</td>\n",
       "      <td>0</td>\n",
       "      <td>0</td>\n",
       "      <td>0</td>\n",
       "      <td>0</td>\n",
       "      <td>0</td>\n",
       "      <td>0</td>\n",
       "      <td>0</td>\n",
       "    </tr>\n",
       "    <tr>\n",
       "      <th>3</th>\n",
       "      <td>71</td>\n",
       "      <td>201933</td>\n",
       "      <td>0</td>\n",
       "      <td>0.266</td>\n",
       "      <td>0.0596</td>\n",
       "      <td>0</td>\n",
       "      <td>-18.515</td>\n",
       "      <td>1</td>\n",
       "      <td>0.0363</td>\n",
       "      <td>0.9050</td>\n",
       "      <td>...</td>\n",
       "      <td>0</td>\n",
       "      <td>0</td>\n",
       "      <td>0</td>\n",
       "      <td>0</td>\n",
       "      <td>0</td>\n",
       "      <td>0</td>\n",
       "      <td>0</td>\n",
       "      <td>0</td>\n",
       "      <td>0</td>\n",
       "      <td>0</td>\n",
       "    </tr>\n",
       "    <tr>\n",
       "      <th>4</th>\n",
       "      <td>82</td>\n",
       "      <td>198853</td>\n",
       "      <td>0</td>\n",
       "      <td>0.618</td>\n",
       "      <td>0.4430</td>\n",
       "      <td>2</td>\n",
       "      <td>-9.681</td>\n",
       "      <td>1</td>\n",
       "      <td>0.0526</td>\n",
       "      <td>0.4690</td>\n",
       "      <td>...</td>\n",
       "      <td>0</td>\n",
       "      <td>0</td>\n",
       "      <td>0</td>\n",
       "      <td>0</td>\n",
       "      <td>0</td>\n",
       "      <td>0</td>\n",
       "      <td>0</td>\n",
       "      <td>0</td>\n",
       "      <td>0</td>\n",
       "      <td>0</td>\n",
       "    </tr>\n",
       "    <tr>\n",
       "      <th>5</th>\n",
       "      <td>58</td>\n",
       "      <td>214240</td>\n",
       "      <td>0</td>\n",
       "      <td>0.688</td>\n",
       "      <td>0.4810</td>\n",
       "      <td>6</td>\n",
       "      <td>-8.807</td>\n",
       "      <td>1</td>\n",
       "      <td>0.1050</td>\n",
       "      <td>0.2890</td>\n",
       "      <td>...</td>\n",
       "      <td>0</td>\n",
       "      <td>0</td>\n",
       "      <td>0</td>\n",
       "      <td>0</td>\n",
       "      <td>0</td>\n",
       "      <td>0</td>\n",
       "      <td>0</td>\n",
       "      <td>0</td>\n",
       "      <td>0</td>\n",
       "      <td>0</td>\n",
       "    </tr>\n",
       "    <tr>\n",
       "      <th>6</th>\n",
       "      <td>74</td>\n",
       "      <td>229400</td>\n",
       "      <td>0</td>\n",
       "      <td>0.407</td>\n",
       "      <td>0.1470</td>\n",
       "      <td>2</td>\n",
       "      <td>-8.822</td>\n",
       "      <td>1</td>\n",
       "      <td>0.0355</td>\n",
       "      <td>0.8570</td>\n",
       "      <td>...</td>\n",
       "      <td>0</td>\n",
       "      <td>0</td>\n",
       "      <td>0</td>\n",
       "      <td>0</td>\n",
       "      <td>0</td>\n",
       "      <td>0</td>\n",
       "      <td>0</td>\n",
       "      <td>0</td>\n",
       "      <td>0</td>\n",
       "      <td>0</td>\n",
       "    </tr>\n",
       "    <tr>\n",
       "      <th>7</th>\n",
       "      <td>80</td>\n",
       "      <td>242946</td>\n",
       "      <td>0</td>\n",
       "      <td>0.703</td>\n",
       "      <td>0.4440</td>\n",
       "      <td>11</td>\n",
       "      <td>-9.331</td>\n",
       "      <td>1</td>\n",
       "      <td>0.0417</td>\n",
       "      <td>0.5590</td>\n",
       "      <td>...</td>\n",
       "      <td>0</td>\n",
       "      <td>0</td>\n",
       "      <td>0</td>\n",
       "      <td>0</td>\n",
       "      <td>0</td>\n",
       "      <td>0</td>\n",
       "      <td>0</td>\n",
       "      <td>0</td>\n",
       "      <td>0</td>\n",
       "      <td>0</td>\n",
       "    </tr>\n",
       "    <tr>\n",
       "      <th>8</th>\n",
       "      <td>74</td>\n",
       "      <td>189613</td>\n",
       "      <td>0</td>\n",
       "      <td>0.625</td>\n",
       "      <td>0.4140</td>\n",
       "      <td>0</td>\n",
       "      <td>-8.700</td>\n",
       "      <td>1</td>\n",
       "      <td>0.0369</td>\n",
       "      <td>0.2940</td>\n",
       "      <td>...</td>\n",
       "      <td>0</td>\n",
       "      <td>0</td>\n",
       "      <td>0</td>\n",
       "      <td>0</td>\n",
       "      <td>0</td>\n",
       "      <td>0</td>\n",
       "      <td>0</td>\n",
       "      <td>0</td>\n",
       "      <td>0</td>\n",
       "      <td>0</td>\n",
       "    </tr>\n",
       "    <tr>\n",
       "      <th>9</th>\n",
       "      <td>56</td>\n",
       "      <td>205594</td>\n",
       "      <td>0</td>\n",
       "      <td>0.442</td>\n",
       "      <td>0.6320</td>\n",
       "      <td>1</td>\n",
       "      <td>-6.770</td>\n",
       "      <td>1</td>\n",
       "      <td>0.0295</td>\n",
       "      <td>0.4260</td>\n",
       "      <td>...</td>\n",
       "      <td>0</td>\n",
       "      <td>0</td>\n",
       "      <td>0</td>\n",
       "      <td>0</td>\n",
       "      <td>0</td>\n",
       "      <td>0</td>\n",
       "      <td>0</td>\n",
       "      <td>0</td>\n",
       "      <td>0</td>\n",
       "      <td>0</td>\n",
       "    </tr>\n",
       "  </tbody>\n",
       "</table>\n",
       "<p>10 rows × 128 columns</p>\n",
       "</div>\n",
       "    <div class=\"colab-df-buttons\">\n",
       "\n",
       "  <div class=\"colab-df-container\">\n",
       "    <button class=\"colab-df-convert\" onclick=\"convertToInteractive('df-da827ae0-c61b-4956-89fb-c504b424fd97')\"\n",
       "            title=\"Convert this dataframe to an interactive table.\"\n",
       "            style=\"display:none;\">\n",
       "\n",
       "  <svg xmlns=\"http://www.w3.org/2000/svg\" height=\"24px\" viewBox=\"0 -960 960 960\">\n",
       "    <path d=\"M120-120v-720h720v720H120Zm60-500h600v-160H180v160Zm220 220h160v-160H400v160Zm0 220h160v-160H400v160ZM180-400h160v-160H180v160Zm440 0h160v-160H620v160ZM180-180h160v-160H180v160Zm440 0h160v-160H620v160Z\"/>\n",
       "  </svg>\n",
       "    </button>\n",
       "\n",
       "  <style>\n",
       "    .colab-df-container {\n",
       "      display:flex;\n",
       "      gap: 12px;\n",
       "    }\n",
       "\n",
       "    .colab-df-convert {\n",
       "      background-color: #E8F0FE;\n",
       "      border: none;\n",
       "      border-radius: 50%;\n",
       "      cursor: pointer;\n",
       "      display: none;\n",
       "      fill: #1967D2;\n",
       "      height: 32px;\n",
       "      padding: 0 0 0 0;\n",
       "      width: 32px;\n",
       "    }\n",
       "\n",
       "    .colab-df-convert:hover {\n",
       "      background-color: #E2EBFA;\n",
       "      box-shadow: 0px 1px 2px rgba(60, 64, 67, 0.3), 0px 1px 3px 1px rgba(60, 64, 67, 0.15);\n",
       "      fill: #174EA6;\n",
       "    }\n",
       "\n",
       "    .colab-df-buttons div {\n",
       "      margin-bottom: 4px;\n",
       "    }\n",
       "\n",
       "    [theme=dark] .colab-df-convert {\n",
       "      background-color: #3B4455;\n",
       "      fill: #D2E3FC;\n",
       "    }\n",
       "\n",
       "    [theme=dark] .colab-df-convert:hover {\n",
       "      background-color: #434B5C;\n",
       "      box-shadow: 0px 1px 3px 1px rgba(0, 0, 0, 0.15);\n",
       "      filter: drop-shadow(0px 1px 2px rgba(0, 0, 0, 0.3));\n",
       "      fill: #FFFFFF;\n",
       "    }\n",
       "  </style>\n",
       "\n",
       "    <script>\n",
       "      const buttonEl =\n",
       "        document.querySelector('#df-da827ae0-c61b-4956-89fb-c504b424fd97 button.colab-df-convert');\n",
       "      buttonEl.style.display =\n",
       "        google.colab.kernel.accessAllowed ? 'block' : 'none';\n",
       "\n",
       "      async function convertToInteractive(key) {\n",
       "        const element = document.querySelector('#df-da827ae0-c61b-4956-89fb-c504b424fd97');\n",
       "        const dataTable =\n",
       "          await google.colab.kernel.invokeFunction('convertToInteractive',\n",
       "                                                    [key], {});\n",
       "        if (!dataTable) return;\n",
       "\n",
       "        const docLinkHtml = 'Like what you see? Visit the ' +\n",
       "          '<a target=\"_blank\" href=https://colab.research.google.com/notebooks/data_table.ipynb>data table notebook</a>'\n",
       "          + ' to learn more about interactive tables.';\n",
       "        element.innerHTML = '';\n",
       "        dataTable['output_type'] = 'display_data';\n",
       "        await google.colab.output.renderOutput(dataTable, element);\n",
       "        const docLink = document.createElement('div');\n",
       "        docLink.innerHTML = docLinkHtml;\n",
       "        element.appendChild(docLink);\n",
       "      }\n",
       "    </script>\n",
       "  </div>\n",
       "\n",
       "\n",
       "<div id=\"df-1fc82659-cc8d-4ac2-bf5c-f6225b8ab61b\">\n",
       "  <button class=\"colab-df-quickchart\" onclick=\"quickchart('df-1fc82659-cc8d-4ac2-bf5c-f6225b8ab61b')\"\n",
       "            title=\"Suggest charts\"\n",
       "            style=\"display:none;\">\n",
       "\n",
       "<svg xmlns=\"http://www.w3.org/2000/svg\" height=\"24px\"viewBox=\"0 0 24 24\"\n",
       "     width=\"24px\">\n",
       "    <g>\n",
       "        <path d=\"M19 3H5c-1.1 0-2 .9-2 2v14c0 1.1.9 2 2 2h14c1.1 0 2-.9 2-2V5c0-1.1-.9-2-2-2zM9 17H7v-7h2v7zm4 0h-2V7h2v10zm4 0h-2v-4h2v4z\"/>\n",
       "    </g>\n",
       "</svg>\n",
       "  </button>\n",
       "\n",
       "<style>\n",
       "  .colab-df-quickchart {\n",
       "      --bg-color: #E8F0FE;\n",
       "      --fill-color: #1967D2;\n",
       "      --hover-bg-color: #E2EBFA;\n",
       "      --hover-fill-color: #174EA6;\n",
       "      --disabled-fill-color: #AAA;\n",
       "      --disabled-bg-color: #DDD;\n",
       "  }\n",
       "\n",
       "  [theme=dark] .colab-df-quickchart {\n",
       "      --bg-color: #3B4455;\n",
       "      --fill-color: #D2E3FC;\n",
       "      --hover-bg-color: #434B5C;\n",
       "      --hover-fill-color: #FFFFFF;\n",
       "      --disabled-bg-color: #3B4455;\n",
       "      --disabled-fill-color: #666;\n",
       "  }\n",
       "\n",
       "  .colab-df-quickchart {\n",
       "    background-color: var(--bg-color);\n",
       "    border: none;\n",
       "    border-radius: 50%;\n",
       "    cursor: pointer;\n",
       "    display: none;\n",
       "    fill: var(--fill-color);\n",
       "    height: 32px;\n",
       "    padding: 0;\n",
       "    width: 32px;\n",
       "  }\n",
       "\n",
       "  .colab-df-quickchart:hover {\n",
       "    background-color: var(--hover-bg-color);\n",
       "    box-shadow: 0 1px 2px rgba(60, 64, 67, 0.3), 0 1px 3px 1px rgba(60, 64, 67, 0.15);\n",
       "    fill: var(--button-hover-fill-color);\n",
       "  }\n",
       "\n",
       "  .colab-df-quickchart-complete:disabled,\n",
       "  .colab-df-quickchart-complete:disabled:hover {\n",
       "    background-color: var(--disabled-bg-color);\n",
       "    fill: var(--disabled-fill-color);\n",
       "    box-shadow: none;\n",
       "  }\n",
       "\n",
       "  .colab-df-spinner {\n",
       "    border: 2px solid var(--fill-color);\n",
       "    border-color: transparent;\n",
       "    border-bottom-color: var(--fill-color);\n",
       "    animation:\n",
       "      spin 1s steps(1) infinite;\n",
       "  }\n",
       "\n",
       "  @keyframes spin {\n",
       "    0% {\n",
       "      border-color: transparent;\n",
       "      border-bottom-color: var(--fill-color);\n",
       "      border-left-color: var(--fill-color);\n",
       "    }\n",
       "    20% {\n",
       "      border-color: transparent;\n",
       "      border-left-color: var(--fill-color);\n",
       "      border-top-color: var(--fill-color);\n",
       "    }\n",
       "    30% {\n",
       "      border-color: transparent;\n",
       "      border-left-color: var(--fill-color);\n",
       "      border-top-color: var(--fill-color);\n",
       "      border-right-color: var(--fill-color);\n",
       "    }\n",
       "    40% {\n",
       "      border-color: transparent;\n",
       "      border-right-color: var(--fill-color);\n",
       "      border-top-color: var(--fill-color);\n",
       "    }\n",
       "    60% {\n",
       "      border-color: transparent;\n",
       "      border-right-color: var(--fill-color);\n",
       "    }\n",
       "    80% {\n",
       "      border-color: transparent;\n",
       "      border-right-color: var(--fill-color);\n",
       "      border-bottom-color: var(--fill-color);\n",
       "    }\n",
       "    90% {\n",
       "      border-color: transparent;\n",
       "      border-bottom-color: var(--fill-color);\n",
       "    }\n",
       "  }\n",
       "</style>\n",
       "\n",
       "  <script>\n",
       "    async function quickchart(key) {\n",
       "      const quickchartButtonEl =\n",
       "        document.querySelector('#' + key + ' button');\n",
       "      quickchartButtonEl.disabled = true;  // To prevent multiple clicks.\n",
       "      quickchartButtonEl.classList.add('colab-df-spinner');\n",
       "      try {\n",
       "        const charts = await google.colab.kernel.invokeFunction(\n",
       "            'suggestCharts', [key], {});\n",
       "      } catch (error) {\n",
       "        console.error('Error during call to suggestCharts:', error);\n",
       "      }\n",
       "      quickchartButtonEl.classList.remove('colab-df-spinner');\n",
       "      quickchartButtonEl.classList.add('colab-df-quickchart-complete');\n",
       "    }\n",
       "    (() => {\n",
       "      let quickchartButtonEl =\n",
       "        document.querySelector('#df-1fc82659-cc8d-4ac2-bf5c-f6225b8ab61b button');\n",
       "      quickchartButtonEl.style.display =\n",
       "        google.colab.kernel.accessAllowed ? 'block' : 'none';\n",
       "    })();\n",
       "  </script>\n",
       "</div>\n",
       "    </div>\n",
       "  </div>\n"
      ],
      "text/plain": [
       "   popularity  duration_ms  explicit  danceability  energy  key  loudness  \\\n",
       "0          73       230666         0         0.676  0.4610    1    -6.746   \n",
       "1          55       149610         0         0.420  0.1660    1   -17.235   \n",
       "2          57       210826         0         0.438  0.3590    0    -9.734   \n",
       "3          71       201933         0         0.266  0.0596    0   -18.515   \n",
       "4          82       198853         0         0.618  0.4430    2    -9.681   \n",
       "5          58       214240         0         0.688  0.4810    6    -8.807   \n",
       "6          74       229400         0         0.407  0.1470    2    -8.822   \n",
       "7          80       242946         0         0.703  0.4440   11    -9.331   \n",
       "8          74       189613         0         0.625  0.4140    0    -8.700   \n",
       "9          56       205594         0         0.442  0.6320    1    -6.770   \n",
       "\n",
       "   mode  speechiness  acousticness  ...  track_genre_spanish  \\\n",
       "0     0       0.1430        0.0322  ...                    0   \n",
       "1     1       0.0763        0.9240  ...                    0   \n",
       "2     1       0.0557        0.2100  ...                    0   \n",
       "3     1       0.0363        0.9050  ...                    0   \n",
       "4     1       0.0526        0.4690  ...                    0   \n",
       "5     1       0.1050        0.2890  ...                    0   \n",
       "6     1       0.0355        0.8570  ...                    0   \n",
       "7     1       0.0417        0.5590  ...                    0   \n",
       "8     1       0.0369        0.2940  ...                    0   \n",
       "9     1       0.0295        0.4260  ...                    0   \n",
       "\n",
       "   track_genre_study  track_genre_swedish  track_genre_synth-pop  \\\n",
       "0                  0                    0                      0   \n",
       "1                  0                    0                      0   \n",
       "2                  0                    0                      0   \n",
       "3                  0                    0                      0   \n",
       "4                  0                    0                      0   \n",
       "5                  0                    0                      0   \n",
       "6                  0                    0                      0   \n",
       "7                  0                    0                      0   \n",
       "8                  0                    0                      0   \n",
       "9                  0                    0                      0   \n",
       "\n",
       "   track_genre_tango  track_genre_techno  track_genre_trance  \\\n",
       "0                  0                   0                   0   \n",
       "1                  0                   0                   0   \n",
       "2                  0                   0                   0   \n",
       "3                  0                   0                   0   \n",
       "4                  0                   0                   0   \n",
       "5                  0                   0                   0   \n",
       "6                  0                   0                   0   \n",
       "7                  0                   0                   0   \n",
       "8                  0                   0                   0   \n",
       "9                  0                   0                   0   \n",
       "\n",
       "   track_genre_trip-hop  track_genre_turkish  track_genre_world-music  \n",
       "0                     0                    0                        0  \n",
       "1                     0                    0                        0  \n",
       "2                     0                    0                        0  \n",
       "3                     0                    0                        0  \n",
       "4                     0                    0                        0  \n",
       "5                     0                    0                        0  \n",
       "6                     0                    0                        0  \n",
       "7                     0                    0                        0  \n",
       "8                     0                    0                        0  \n",
       "9                     0                    0                        0  \n",
       "\n",
       "[10 rows x 128 columns]"
      ]
     },
     "execution_count": 20,
     "metadata": {},
     "output_type": "execute_result"
    }
   ],
   "source": [
    "# First 10 rows of new dataframe\n",
    "one_hot_df.head(10)"
   ]
  },
  {
   "cell_type": "markdown",
   "metadata": {
    "id": "1F9TdTzjdEXX"
   },
   "source": [
    "## 4.2 Split Training & Testing Data\n",
    "We needed to create training, validation, and testing data so we decided on an 70/15/15 split. We have a decent amount of data, but not a massive amount so we wanted to preserve a decent chunk for training so we decided on 70/15/15. We tested other splits out, such as 80/10/10 and 60/20/20, but we found best results using this split. We used a random seed of 69 for the sake of reproducibility. The first step is to separate the features from the label column."
   ]
  },
  {
   "cell_type": "code",
   "execution_count": 21,
   "metadata": {
    "id": "1oVPnRE6oD2-"
   },
   "outputs": [],
   "source": [
    "# Create features dataframe\n",
    "one_hot_features = one_hot_df.drop(\"popularity\", axis=1)\n",
    "\n",
    "# Create label dataframe\n",
    "one_hot_labels = one_hot_df[\"popularity\"]"
   ]
  },
  {
   "cell_type": "code",
   "execution_count": 22,
   "metadata": {
    "id": "ycAwL_osd89X"
   },
   "outputs": [],
   "source": [
    "# Split into training and validation + test data\n",
    "X_train, X_temp, Y_train, Y_temp = train_test_split(one_hot_features, one_hot_labels, test_size=0.3, random_state=69)\n",
    "\n",
    "# Split temp data into validation and test data\n",
    "X_val, X_test, Y_val, Y_test = train_test_split(X_temp, Y_temp, test_size=0.5, random_state=69)"
   ]
  },
  {
   "cell_type": "markdown",
   "metadata": {
    "id": "Y8PvJEwoR8ln"
   },
   "source": [
    "## 4.3 PCA\n",
    "We needed to standardize our data before applying PCA as PCA is not scale invariant. We have some features ranging from 0-100, 0-1, and some in the tens out thousands."
   ]
  },
  {
   "cell_type": "code",
   "execution_count": 23,
   "metadata": {
    "id": "Ht7otbFIV-Om"
   },
   "outputs": [],
   "source": [
    "# Initialize scaler\n",
    "scaler = StandardScaler()\n",
    "\n",
    "# Scale data\n",
    "X_train_scaled = scaler.fit_transform(X_train)\n",
    "X_val_scaled = scaler.transform(X_val)\n",
    "X_test_scaled = scaler.transform(X_test)"
   ]
  },
  {
   "cell_type": "code",
   "execution_count": 24,
   "metadata": {
    "colab": {
     "base_uri": "https://localhost:8080/",
     "height": 74
    },
    "id": "DT1D4lg5WvBB",
    "outputId": "50858b5b-5ac0-4fcf-f667-89fa13c4447b"
   },
   "outputs": [
    {
     "data": {
      "text/html": [
       "<style>#sk-container-id-1 {color: black;background-color: white;}#sk-container-id-1 pre{padding: 0;}#sk-container-id-1 div.sk-toggleable {background-color: white;}#sk-container-id-1 label.sk-toggleable__label {cursor: pointer;display: block;width: 100%;margin-bottom: 0;padding: 0.3em;box-sizing: border-box;text-align: center;}#sk-container-id-1 label.sk-toggleable__label-arrow:before {content: \"▸\";float: left;margin-right: 0.25em;color: #696969;}#sk-container-id-1 label.sk-toggleable__label-arrow:hover:before {color: black;}#sk-container-id-1 div.sk-estimator:hover label.sk-toggleable__label-arrow:before {color: black;}#sk-container-id-1 div.sk-toggleable__content {max-height: 0;max-width: 0;overflow: hidden;text-align: left;background-color: #f0f8ff;}#sk-container-id-1 div.sk-toggleable__content pre {margin: 0.2em;color: black;border-radius: 0.25em;background-color: #f0f8ff;}#sk-container-id-1 input.sk-toggleable__control:checked~div.sk-toggleable__content {max-height: 200px;max-width: 100%;overflow: auto;}#sk-container-id-1 input.sk-toggleable__control:checked~label.sk-toggleable__label-arrow:before {content: \"▾\";}#sk-container-id-1 div.sk-estimator input.sk-toggleable__control:checked~label.sk-toggleable__label {background-color: #d4ebff;}#sk-container-id-1 div.sk-label input.sk-toggleable__control:checked~label.sk-toggleable__label {background-color: #d4ebff;}#sk-container-id-1 input.sk-hidden--visually {border: 0;clip: rect(1px 1px 1px 1px);clip: rect(1px, 1px, 1px, 1px);height: 1px;margin: -1px;overflow: hidden;padding: 0;position: absolute;width: 1px;}#sk-container-id-1 div.sk-estimator {font-family: monospace;background-color: #f0f8ff;border: 1px dotted black;border-radius: 0.25em;box-sizing: border-box;margin-bottom: 0.5em;}#sk-container-id-1 div.sk-estimator:hover {background-color: #d4ebff;}#sk-container-id-1 div.sk-parallel-item::after {content: \"\";width: 100%;border-bottom: 1px solid gray;flex-grow: 1;}#sk-container-id-1 div.sk-label:hover label.sk-toggleable__label {background-color: #d4ebff;}#sk-container-id-1 div.sk-serial::before {content: \"\";position: absolute;border-left: 1px solid gray;box-sizing: border-box;top: 0;bottom: 0;left: 50%;z-index: 0;}#sk-container-id-1 div.sk-serial {display: flex;flex-direction: column;align-items: center;background-color: white;padding-right: 0.2em;padding-left: 0.2em;position: relative;}#sk-container-id-1 div.sk-item {position: relative;z-index: 1;}#sk-container-id-1 div.sk-parallel {display: flex;align-items: stretch;justify-content: center;background-color: white;position: relative;}#sk-container-id-1 div.sk-item::before, #sk-container-id-1 div.sk-parallel-item::before {content: \"\";position: absolute;border-left: 1px solid gray;box-sizing: border-box;top: 0;bottom: 0;left: 50%;z-index: -1;}#sk-container-id-1 div.sk-parallel-item {display: flex;flex-direction: column;z-index: 1;position: relative;background-color: white;}#sk-container-id-1 div.sk-parallel-item:first-child::after {align-self: flex-end;width: 50%;}#sk-container-id-1 div.sk-parallel-item:last-child::after {align-self: flex-start;width: 50%;}#sk-container-id-1 div.sk-parallel-item:only-child::after {width: 0;}#sk-container-id-1 div.sk-dashed-wrapped {border: 1px dashed gray;margin: 0 0.4em 0.5em 0.4em;box-sizing: border-box;padding-bottom: 0.4em;background-color: white;}#sk-container-id-1 div.sk-label label {font-family: monospace;font-weight: bold;display: inline-block;line-height: 1.2em;}#sk-container-id-1 div.sk-label-container {text-align: center;}#sk-container-id-1 div.sk-container {/* jupyter's `normalize.less` sets `[hidden] { display: none; }` but bootstrap.min.css set `[hidden] { display: none !important; }` so we also need the `!important` here to be able to override the default hidden behavior on the sphinx rendered scikit-learn.org. See: https://github.com/scikit-learn/scikit-learn/issues/21755 */display: inline-block !important;position: relative;}#sk-container-id-1 div.sk-text-repr-fallback {display: none;}</style><div id=\"sk-container-id-1\" class=\"sk-top-container\"><div class=\"sk-text-repr-fallback\"><pre>PCA()</pre><b>In a Jupyter environment, please rerun this cell to show the HTML representation or trust the notebook. <br />On GitHub, the HTML representation is unable to render, please try loading this page with nbviewer.org.</b></div><div class=\"sk-container\" hidden><div class=\"sk-item\"><div class=\"sk-estimator sk-toggleable\"><input class=\"sk-toggleable__control sk-hidden--visually\" id=\"sk-estimator-id-1\" type=\"checkbox\" checked><label for=\"sk-estimator-id-1\" class=\"sk-toggleable__label sk-toggleable__label-arrow\">PCA</label><div class=\"sk-toggleable__content\"><pre>PCA()</pre></div></div></div></div></div>"
      ],
      "text/plain": [
       "PCA()"
      ]
     },
     "execution_count": 24,
     "metadata": {},
     "output_type": "execute_result"
    }
   ],
   "source": [
    "# Initialize dummy PCA\n",
    "pca = PCA()\n",
    "\n",
    "# Fit PCA to scaled training data\n",
    "pca.fit(X_train_scaled)"
   ]
  },
  {
   "cell_type": "markdown",
   "metadata": {
    "id": "v7YIeclxf0Aq"
   },
   "source": [
    "To decide on the number of components we should have, we needed to know the explained variance ratio given the number of components. We decided on 0.8 as a good number to aim for to reduce the chances of overfitting while still maintaining the most important components."
   ]
  },
  {
   "cell_type": "code",
   "execution_count": 25,
   "metadata": {
    "id": "Vm7iVzFxgItd"
   },
   "outputs": [],
   "source": [
    "# Find explained variance ratio\n",
    "evr = pca.explained_variance_ratio_\n",
    "\n",
    "# Calculating the cumulative sum of explained variance ratios\n",
    "cumulative_evr = np.cumsum(evr)"
   ]
  },
  {
   "cell_type": "code",
   "execution_count": 26,
   "metadata": {
    "colab": {
     "base_uri": "https://localhost:8080/"
    },
    "id": "ahx-C9xOi9pJ",
    "outputId": "631a5bed-4018-4ac9-c9de-461f9b42b6e0"
   },
   "outputs": [
    {
     "name": "stdout",
     "output_type": "stream",
     "text": [
      "Number of Components: 94\n"
     ]
    }
   ],
   "source": [
    "# Find exact components need\n",
    "optimal_comp = np.argmax(cumulative_evr >= 0.8) + 1\n",
    "print(\"Number of Components:\", str(optimal_comp))"
   ]
  },
  {
   "cell_type": "markdown",
   "metadata": {
    "id": "Do0Z9ydbj5vn"
   },
   "source": [
    "With the exact number of components, known we can run PCA again on the training and test data."
   ]
  },
  {
   "cell_type": "code",
   "execution_count": 27,
   "metadata": {
    "id": "SYm8Ser6kBbK"
   },
   "outputs": [],
   "source": [
    "# Initialize new PCA\n",
    "pca = PCA(n_components=optimal_comp)\n",
    "\n",
    "# Fit new PCA to training data and transform\n",
    "X_train_pca = pca.fit_transform(X_train_scaled)\n",
    "\n",
    "# Transform other data\n",
    "X_val_pca = pca.transform(X_val_scaled)\n",
    "X_test_pca = pca.transform(X_test_scaled)"
   ]
  },
  {
   "cell_type": "markdown",
   "metadata": {
    "id": "UzMp6zbCk3_E"
   },
   "source": [
    "# Part 5: Linear Regression Model\n",
    "We decided to start with a linear regression model as our first model because of its simplicity. We can use its results as a baseline for other, more powerful models."
   ]
  },
  {
   "cell_type": "code",
   "execution_count": 28,
   "metadata": {
    "colab": {
     "base_uri": "https://localhost:8080/"
    },
    "id": "5-OvQN_yTT4I",
    "outputId": "2ba35bfb-a565-4153-9f1b-e0869b1c69fb"
   },
   "outputs": [
    {
     "name": "stdout",
     "output_type": "stream",
     "text": [
      "Training Set R^2 value: 0.27610056183479237\n",
      "Test Set R^2 value: 0.27509347509290893\n",
      "Training Mean Squared Error: 307.52642305499467\n",
      "Test Mean Squared Error: 304.66008597890294\n"
     ]
    }
   ],
   "source": [
    "# Create linear regression model\n",
    "lr = LinearRegression()\n",
    "\n",
    "# Fit the model on the training data\n",
    "lr.fit(X_train_pca, Y_train)\n",
    "\n",
    "# Make predictions on the training and testing data\n",
    "train_predictions = lr.predict(X_train_pca)\n",
    "test_predictions = lr.predict(X_test_pca)\n",
    "\n",
    "# R^2 value calculation\n",
    "r2_train = lr.score(X_train_pca, Y_train)\n",
    "r2_test = lr.score(X_test_pca, Y_test)\n",
    "\n",
    "# Evaluate the model\n",
    "train_mse = mean_squared_error(Y_train, train_predictions)\n",
    "test_mse = mean_squared_error(Y_test, test_predictions)\n",
    "\n",
    "# Get metrics\n",
    "print('Training Set R^2 value: ' + str(r2_train))\n",
    "print('Test Set R^2 value: ' + str(r2_test))\n",
    "print('Training Mean Squared Error: ' + str(train_mse))\n",
    "print('Test Mean Squared Error: ' + str(test_mse))"
   ]
  },
  {
   "cell_type": "markdown",
   "metadata": {
    "id": "ANsuvAAdmD9F"
   },
   "source": [
    "Somewhat unsurprisingly, our linear regression model isn't fitting the data particularly well. R^2 values of  0.276 for the training and 0.275 for the test data are quite poor and an MSE of about 305 is also quite large. This is likely due to underfitting the data and also linear regressions being unable to capture nonlinear relationships. Linear regression in general is a very limited model so other more powerful and complex models can be implemented to improve our results."
   ]
  },
  {
   "cell_type": "markdown",
   "metadata": {
    "id": "4st4Tsg_aBJE"
   },
   "source": [
    "# Part 6: Gradient Boosted Tree\n",
    "\n",
    "We decided to go with a gradiented boosted tree as our next model because of their strong predicting power. Additionally, gradient boosted trees can potentially capture nonlinear relationships."
   ]
  },
  {
   "cell_type": "markdown",
   "metadata": {
    "id": "ayvvD9fspbS-"
   },
   "source": [
    "## 6.1 Base Model\n"
   ]
  },
  {
   "cell_type": "code",
   "execution_count": 57,
   "metadata": {
    "colab": {
     "base_uri": "https://localhost:8080/"
    },
    "id": "M1ljN43udINc",
    "outputId": "a47e32ca-f058-4a79-8412-56b3242f51a6"
   },
   "outputs": [
    {
     "name": "stdout",
     "output_type": "stream",
     "text": [
      "Train Set R^2 value: 0.3573648459147155\n",
      "Test Set R^2 value: 0.3367264780513991\n",
      "Train Mean Squared Error: 273.003790092928\n",
      "Test Mean Squared Error: 278.7572759816027\n"
     ]
    }
   ],
   "source": [
    "# Instatiate a XGBRegressor model using default sklearn values\n",
    "xgbr = XGBRegressor(n_estimators=100, max_depth=3, eta=0.1, seed=69)\n",
    "\n",
    "# Fit a model\n",
    "xgbr.fit(X_train_pca, Y_train)\n",
    "\n",
    "# Predict the target variable for the training/test set\n",
    "train_predictions = xgbr.predict(X_train_pca)\n",
    "test_predictions = xgbr.predict(X_test_pca)\n",
    "\n",
    "# Calcuate R^2 score\n",
    "r2_train = r2_score(Y_train, train_predictions)\n",
    "r2_test = r2_score(Y_test, test_predictions)\n",
    "\n",
    "# Calculate MSE\n",
    "train_mse = mean_squared_error(Y_train, train_predictions)\n",
    "test_mse = mean_squared_error(Y_test, test_predictions)\n",
    "\n",
    "print('Train Set R^2 value: ' + str(r2_train))\n",
    "print('Test Set R^2 value: ' + str(r2_test))\n",
    "print('Train Mean Squared Error: ' + str(train_mse))\n",
    "print('Test Mean Squared Error: ' + str(test_mse))"
   ]
  },
  {
   "cell_type": "markdown",
   "metadata": {
    "id": "tk147xuw1RlU"
   },
   "source": [
    "The default gradient boosted tree performs better than the linear regression, but the similarity of our training and testing metrics likely indicates that we are still underfitting our data. We can improve upon this by tuning the hyperparameters of the model. We used the default hyperparameters of the model, but we can use randomized search to find better ones."
   ]
  },
  {
   "cell_type": "markdown",
   "metadata": {
    "id": "6NDHCOhAim8n"
   },
   "source": [
    "## 6.2 Hyperparameter Tuning\n",
    "We believe our model is still underfitting the data because of the similarity of training and testing metrics so we elected increase the depth of the each tree and decrease the learning rates to get more precise predictions."
   ]
  },
  {
   "cell_type": "code",
   "execution_count": 58,
   "metadata": {
    "colab": {
     "base_uri": "https://localhost:8080/"
    },
    "id": "0lC0buAbi-to",
    "outputId": "fae8f54e-f4e6-4ecf-ad7a-cb6e47ef6448"
   },
   "outputs": [
    {
     "name": "stderr",
     "output_type": "stream",
     "text": [
      "/usr/local/lib/python3.10/dist-packages/sklearn/model_selection/_search.py:305: UserWarning: The total space of parameters 9 is smaller than n_iter=15. Running 9 iterations. For exhaustive searches, use GridSearchCV.\n",
      "  warnings.warn(\n"
     ]
    },
    {
     "name": "stdout",
     "output_type": "stream",
     "text": [
      "{'max_depth': 6, 'eta': 0.1}\n"
     ]
    }
   ],
   "source": [
    "# Define the parameter grid for XGradient Boosting Regression\n",
    "param_dist = {\n",
    "    \"max_depth\": [6, 9, 12],\n",
    "    \"eta\": [0.001, 0.01, 0.1]\n",
    "}\n",
    "\n",
    "# Create a XGradient Boosting Regression object\n",
    "xgbr = XGBRegressor()\n",
    "\n",
    "# Create a Randomized Search Cross-Validation object\n",
    "random_search = RandomizedSearchCV(xgbr,\n",
    "                                   param_distributions=param_dist,\n",
    "                                   n_iter=15,\n",
    "                                   cv=5,\n",
    "                                   scoring='neg_mean_squared_error',\n",
    "                                   n_jobs=-1)\n",
    "\n",
    "# Fit the Randomized Search object to the validation data\n",
    "random_search.fit(X_val_pca, Y_val)\n",
    "\n",
    "# Get the best hyperparameters\n",
    "best_params = random_search.best_params_\n",
    "print(best_params)"
   ]
  },
  {
   "cell_type": "code",
   "execution_count": 59,
   "metadata": {
    "colab": {
     "base_uri": "https://localhost:8080/"
    },
    "id": "TmivFQ2NluzX",
    "outputId": "7f595b83-cb75-4cac-f742-3521a0dc7a48"
   },
   "outputs": [
    {
     "name": "stdout",
     "output_type": "stream",
     "text": [
      "Train Set R^2 value: 0.4702380765804023\n",
      "Test Set R^2 value: 0.37245997265183106\n",
      "Train Mean Squared Error: 225.05306785827676\n",
      "Test Mean Squared Error: 263.739381724561\n"
     ]
    }
   ],
   "source": [
    "# Instatiate a new XGBRegressor model\n",
    "best_xgbr = XGBRegressor(**best_params, seed=69)\n",
    "\n",
    "# Fit a new model\n",
    "best_xgbr.fit(X_train_pca, Y_train)\n",
    "\n",
    "# Predict the target variable for the training/test set\n",
    "train_predictions = best_xgbr.predict(X_train_pca)\n",
    "test_predictions = best_xgbr.predict(X_test_pca)\n",
    "\n",
    "# Calcuate R^2 score\n",
    "r2_train = r2_score(Y_train, train_predictions)\n",
    "r2_test = r2_score(Y_test, test_predictions)\n",
    "\n",
    "# Calculate MSE\n",
    "train_mse = mean_squared_error(Y_train, train_predictions)\n",
    "test_mse = mean_squared_error(Y_test, test_predictions)\n",
    "\n",
    "print('Train Set R^2 value: ' + str(r2_train))\n",
    "print('Test Set R^2 value: ' + str(r2_test))\n",
    "print('Train Mean Squared Error: ' + str(train_mse))\n",
    "print('Test Mean Squared Error: ' + str(test_mse))"
   ]
  },
  {
   "cell_type": "markdown",
   "metadata": {
    "id": "EReU-loZ2USv"
   },
   "source": [
    "While we've improved on our base gradient boosted tree, the tiny jump in our testing metrics compared to the decent jump in our training metrics indicates that we've begun to overfit the data. Selecting better hyperparameters to test could likely improve the metrics of both the training and testing sets, but we'd likely see the model begin to overfit more and more."
   ]
  },
  {
   "cell_type": "markdown",
   "metadata": {
    "id": "YEPoVIOPmyC1"
   },
   "source": [
    "# Part 7: Random Forest\n",
    "We decided to go with random forests as our third model because we thought that while they should theoretically offer less predictive power when compared to gradient boosted trees, they are don't overfit quite as much. Random forests train each tree independently while gradient boosted trees train each tree based on the results of the last one trained. We're choosing to set a shallow max depth on our random forest to prevent overfitting and speeding up running time."
   ]
  },
  {
   "cell_type": "markdown",
   "metadata": {
    "id": "020vz3HozzWN"
   },
   "source": [
    "## 7.1 Base Model"
   ]
  },
  {
   "cell_type": "code",
   "execution_count": 61,
   "metadata": {
    "colab": {
     "base_uri": "https://localhost:8080/"
    },
    "id": "eEC8nAeos0tD",
    "outputId": "0230e627-b99d-4fd8-9d52-825117a46e80"
   },
   "outputs": [
    {
     "name": "stdout",
     "output_type": "stream",
     "text": [
      "Train Set R^2 value: 0.3390224464988497\n",
      "Test Set R^2 value: 0.3140994290785595\n",
      "Train Mean Squared Error: 280.79599462468497\n",
      "Test Mean Squared Error: 288.26685887078645\n"
     ]
    }
   ],
   "source": [
    "# Create the RandomForestRegressor,\n",
    "rf = RandomForestRegressor(max_depth=6, random_state=69)\n",
    "\n",
    "# Train the model\n",
    "rf.fit(X_train_pca, Y_train)\n",
    "\n",
    "# Make predictions\n",
    "train_predictions = rf.predict(X_train_pca)\n",
    "test_predictions = rf.predict(X_test_pca)\n",
    "\n",
    "# Calcuate R^2 score\n",
    "r2_train = r2_score(Y_train, train_predictions)\n",
    "r2_test = r2_score(Y_test, test_predictions)\n",
    "\n",
    "# Calculate MSE\n",
    "train_mse = mean_squared_error(Y_train, train_predictions)\n",
    "test_mse = mean_squared_error(Y_test, test_predictions)\n",
    "\n",
    "print('Train Set R^2 value: ' + str(r2_train))\n",
    "print('Test Set R^2 value: ' + str(r2_test))\n",
    "print('Train Mean Squared Error: ' + str(train_mse))\n",
    "print('Test Mean Squared Error: ' + str(test_mse))"
   ]
  },
  {
   "cell_type": "markdown",
   "metadata": {
    "id": "68G5Pp0sLveX"
   },
   "source": [
    "Our default random forest has relatively similar scoring metrics to our gradient boosted tree, but our hope is that the hyperparameter tuning will get us better results without overfitting as much."
   ]
  },
  {
   "cell_type": "markdown",
   "metadata": {
    "id": "6MNUJW6Uz2up"
   },
   "source": [
    "## 7.2 Hyperparameter Tuning"
   ]
  },
  {
   "cell_type": "markdown",
   "metadata": {
    "id": "Dah0r-nlOJOu"
   },
   "source": [
    "We believe that oene of the reasons our random forest was overfitting so much was that we put no cap on the depth of each tree. Each tree was training until each leaf had a homogenous sample. As such we've decided to use relatively low values for max_depth. Increasing the number of trees should have less of an impact than the depth, so we elected to use higher values to get more trees to average together."
   ]
  },
  {
   "cell_type": "code",
   "execution_count": 64,
   "metadata": {
    "id": "CTOThA3S_peP"
   },
   "outputs": [],
   "source": [
    "# Define the parameter grid for Random Forest Regression\n",
    "param_dist = {\n",
    "    'max_depth': [6, 9, 12],\n",
    "    'n_estimators': [100, 200, 300]\n",
    "}\n",
    "\n",
    "# Create a Random Forest Regression object\n",
    "rf = RandomForestRegressor()\n",
    "\n",
    "# Create a Random Search Cross-Validation object\n",
    "random_search = RandomizedSearchCV(rf,\n",
    "                                   param_distributions=param_dist,\n",
    "                                   n_iter=10,\n",
    "                                   cv=5,\n",
    "                                   scoring='neg_mean_squared_error',\n",
    "                                   n_jobs=-1)\n",
    "\n",
    "# Fit the Random Search object to the validation data\n",
    "random_search.fit(X_val_pca, Y_val)\n",
    "\n",
    "# Get the best hyperparameters\n",
    "best_params = random_search.best_params_"
   ]
  },
  {
   "cell_type": "code",
   "execution_count": 65,
   "metadata": {
    "colab": {
     "base_uri": "https://localhost:8080/"
    },
    "id": "04LaOvl9RJ00",
    "outputId": "6f3cc797-982f-4303-8ce5-1a93914c1949"
   },
   "outputs": [
    {
     "name": "stdout",
     "output_type": "stream",
     "text": [
      "Train Set R^2 value: 0.5543428875293173\n",
      "Test Set R^2 value: 0.3595308353077934\n",
      "Train Mean Squared Error: 189.32372437599375\n",
      "Test Mean Squared Error: 269.1731748544716\n"
     ]
    }
   ],
   "source": [
    "# Create the RandomForestRegressor\n",
    "rf = RandomForestRegressor(**best_params, random_state=69)\n",
    "\n",
    "# Train the model\n",
    "rf.fit(X_train_pca, Y_train)\n",
    "\n",
    "# Make predictions\n",
    "train_predictions = rf.predict(X_train_pca)\n",
    "test_predictions = rf.predict(X_test_pca)\n",
    "\n",
    "# Calcuate R^2 score\n",
    "r2_train = r2_score(Y_train, train_predictions)\n",
    "r2_test = r2_score(Y_test, test_predictions)\n",
    "\n",
    "# Calculate MSE\n",
    "train_mse = mean_squared_error(Y_train, train_predictions)\n",
    "test_mse = mean_squared_error(Y_test, test_predictions)\n",
    "\n",
    "print('Train Set R^2 value: ' + str(r2_train))\n",
    "print('Test Set R^2 value: ' + str(r2_test))\n",
    "print('Train Mean Squared Error: ' + str(train_mse))\n",
    "print('Test Mean Squared Error: ' + str(test_mse))"
   ]
  },
  {
   "cell_type": "markdown",
   "metadata": {
    "id": "ouW1wbAJJXX5"
   },
   "source": [
    "We ended up having more overfitting with the random forest than the gradient boosted tree. It could be that with better hyperparameter tuning, we could have done better with both models, but it seems that the self correction of the gradient boosted tree gives better results when generalizing to new data."
   ]
  },
  {
   "cell_type": "markdown",
   "metadata": {
    "id": "WXnQmoXeHpui"
   },
   "source": [
    "# Part 8: Conclusions\n",
    "\n",
    "\n",
    "\n"
   ]
  },
  {
   "cell_type": "markdown",
   "metadata": {
    "id": "R4SQhBMMIVJK"
   },
   "source": [
    "## 8.1 Main Takeaway\n",
    "Our main takeaway from this project is that predicting song popularity from numbers alone is very difficult. This isn't particularly surprising as there's a huge variety of songs that end up topping streaming charts. While genres like rap and pop are the most popular, a variety of other genres are also very popular and within each genre there's huge variations in how songs sound.\n"
   ]
  },
  {
   "cell_type": "markdown",
   "metadata": {
    "id": "-6iIb4DdIYcB"
   },
   "source": [
    "## 8.2 Model Analysis\n",
    "Our best performing model was the random forest on training data and the gradient boosted tree on testing data. Neither were particularly accurate, with the random forest achieving an r^2 of 0.55 and MSE of 189.32 on training data and the gradient boosted tree achieving an r^2 of 0.372 and MSE of 263.74 on testing data. We could likely achieve better results with a more powerful model like a neural network or with better hyperparameter tuning methods like bayesian tuning, but due to time and computational resource constraints, we elected to stop here with our models."
   ]
  },
  {
   "cell_type": "markdown",
   "metadata": {
    "id": "QlpEO6i5IaXv"
   },
   "source": [
    "## 8.3 Thoughts to the Future\n",
    "In the future, we think it'd be interesting to consider how models trained on songs from each year differ. We could analyze how trends in the music industry are changing and potentially try and predict them as well. Incorporating data from other streaming platforms could also provide additional insight into as well. The advent of TikTok as a way to publish and publicize music is also an interesting development that could have huge impacts on the music industry.\n",
    "\n",
    "If we were to repeat this project, the maybe easiest point to start from would be to find song popularity as a function of artist popularity. That is likely the biggest predictor of song popularity, but we could potentially gain insights into which artists are on the rise or fall."
   ]
  }
 ],
 "metadata": {
  "colab": {
   "provenance": [],
   "toc_visible": true
  },
  "kernelspec": {
   "display_name": "Python 3 (ipykernel)",
   "language": "python",
   "name": "python3"
  },
  "language_info": {
   "codemirror_mode": {
    "name": "ipython",
    "version": 3
   },
   "file_extension": ".py",
   "mimetype": "text/x-python",
   "name": "python",
   "nbconvert_exporter": "python",
   "pygments_lexer": "ipython3",
   "version": "3.11.5"
  },
  "widgets": {
   "application/vnd.jupyter.widget-state+json": {
    "040f446dd36a4dcf8754e14c968f0b93": {
     "model_module": "@jupyter-widgets/base",
     "model_module_version": "1.2.0",
     "model_name": "LayoutModel",
     "state": {
      "_model_module": "@jupyter-widgets/base",
      "_model_module_version": "1.2.0",
      "_model_name": "LayoutModel",
      "_view_count": null,
      "_view_module": "@jupyter-widgets/base",
      "_view_module_version": "1.2.0",
      "_view_name": "LayoutView",
      "align_content": null,
      "align_items": null,
      "align_self": null,
      "border": null,
      "bottom": null,
      "display": null,
      "flex": null,
      "flex_flow": null,
      "grid_area": null,
      "grid_auto_columns": null,
      "grid_auto_flow": null,
      "grid_auto_rows": null,
      "grid_column": null,
      "grid_gap": null,
      "grid_row": null,
      "grid_template_areas": null,
      "grid_template_columns": null,
      "grid_template_rows": null,
      "height": null,
      "justify_content": null,
      "justify_items": null,
      "left": null,
      "margin": null,
      "max_height": null,
      "max_width": null,
      "min_height": null,
      "min_width": null,
      "object_fit": null,
      "object_position": null,
      "order": null,
      "overflow": null,
      "overflow_x": null,
      "overflow_y": null,
      "padding": null,
      "right": null,
      "top": null,
      "visibility": null,
      "width": null
     }
    },
    "06acd57afb9241a7940e2d6f3ad26834": {
     "model_module": "@jupyter-widgets/base",
     "model_module_version": "1.2.0",
     "model_name": "LayoutModel",
     "state": {
      "_model_module": "@jupyter-widgets/base",
      "_model_module_version": "1.2.0",
      "_model_name": "LayoutModel",
      "_view_count": null,
      "_view_module": "@jupyter-widgets/base",
      "_view_module_version": "1.2.0",
      "_view_name": "LayoutView",
      "align_content": null,
      "align_items": null,
      "align_self": null,
      "border": null,
      "bottom": null,
      "display": null,
      "flex": null,
      "flex_flow": null,
      "grid_area": null,
      "grid_auto_columns": null,
      "grid_auto_flow": null,
      "grid_auto_rows": null,
      "grid_column": null,
      "grid_gap": null,
      "grid_row": null,
      "grid_template_areas": null,
      "grid_template_columns": null,
      "grid_template_rows": null,
      "height": null,
      "justify_content": null,
      "justify_items": null,
      "left": null,
      "margin": null,
      "max_height": null,
      "max_width": null,
      "min_height": null,
      "min_width": null,
      "object_fit": null,
      "object_position": null,
      "order": null,
      "overflow": null,
      "overflow_x": null,
      "overflow_y": null,
      "padding": null,
      "right": null,
      "top": null,
      "visibility": null,
      "width": null
     }
    },
    "1190fa0da11844448744eea15966159d": {
     "model_module": "@jupyter-widgets/base",
     "model_module_version": "1.2.0",
     "model_name": "LayoutModel",
     "state": {
      "_model_module": "@jupyter-widgets/base",
      "_model_module_version": "1.2.0",
      "_model_name": "LayoutModel",
      "_view_count": null,
      "_view_module": "@jupyter-widgets/base",
      "_view_module_version": "1.2.0",
      "_view_name": "LayoutView",
      "align_content": null,
      "align_items": null,
      "align_self": null,
      "border": null,
      "bottom": null,
      "display": null,
      "flex": null,
      "flex_flow": null,
      "grid_area": null,
      "grid_auto_columns": null,
      "grid_auto_flow": null,
      "grid_auto_rows": null,
      "grid_column": null,
      "grid_gap": null,
      "grid_row": null,
      "grid_template_areas": null,
      "grid_template_columns": null,
      "grid_template_rows": null,
      "height": null,
      "justify_content": null,
      "justify_items": null,
      "left": null,
      "margin": null,
      "max_height": null,
      "max_width": null,
      "min_height": null,
      "min_width": null,
      "object_fit": null,
      "object_position": null,
      "order": null,
      "overflow": null,
      "overflow_x": null,
      "overflow_y": null,
      "padding": null,
      "right": null,
      "top": null,
      "visibility": null,
      "width": null
     }
    },
    "129ef7085e684ca9b936e7a235abb507": {
     "model_module": "@jupyter-widgets/controls",
     "model_module_version": "1.5.0",
     "model_name": "FloatProgressModel",
     "state": {
      "_dom_classes": [],
      "_model_module": "@jupyter-widgets/controls",
      "_model_module_version": "1.5.0",
      "_model_name": "FloatProgressModel",
      "_view_count": null,
      "_view_module": "@jupyter-widgets/controls",
      "_view_module_version": "1.5.0",
      "_view_name": "ProgressView",
      "bar_style": "success",
      "description": "",
      "description_tooltip": null,
      "layout": "IPY_MODEL_5515b0a8d40447168d2c2baf8906774a",
      "max": 20118244,
      "min": 0,
      "orientation": "horizontal",
      "style": "IPY_MODEL_45923433c0b644769a38bc6367f520ce",
      "value": 20118244
     }
    },
    "19b691c6a18c43509491251fb93a103a": {
     "model_module": "@jupyter-widgets/controls",
     "model_module_version": "1.5.0",
     "model_name": "HTMLModel",
     "state": {
      "_dom_classes": [],
      "_model_module": "@jupyter-widgets/controls",
      "_model_module_version": "1.5.0",
      "_model_name": "HTMLModel",
      "_view_count": null,
      "_view_module": "@jupyter-widgets/controls",
      "_view_module_version": "1.5.0",
      "_view_name": "HTMLView",
      "description": "",
      "description_tooltip": null,
      "layout": "IPY_MODEL_6fae1a780bbc4837b5e37dfb140f9a2e",
      "placeholder": "​",
      "style": "IPY_MODEL_916679da74b84da09143c48f06f354f3",
      "value": " 20.1M/20.1M [00:00&lt;00:00, 43.4MB/s]"
     }
    },
    "1eecd5f07dcf4316b3af9cfbd120346f": {
     "model_module": "@jupyter-widgets/controls",
     "model_module_version": "1.5.0",
     "model_name": "HTMLModel",
     "state": {
      "_dom_classes": [],
      "_model_module": "@jupyter-widgets/controls",
      "_model_module_version": "1.5.0",
      "_model_name": "HTMLModel",
      "_view_count": null,
      "_view_module": "@jupyter-widgets/controls",
      "_view_module_version": "1.5.0",
      "_view_name": "HTMLView",
      "description": "",
      "description_tooltip": null,
      "layout": "IPY_MODEL_a7471f1e2e0d4987b9a0deb23e710a94",
      "placeholder": "​",
      "style": "IPY_MODEL_9f55f6c7e389400ba66be0b91e956e31",
      "value": "Downloading data: 100%"
     }
    },
    "2618acc73f2241fb96bc3ed1a15ac26d": {
     "model_module": "@jupyter-widgets/controls",
     "model_module_version": "1.5.0",
     "model_name": "HTMLModel",
     "state": {
      "_dom_classes": [],
      "_model_module": "@jupyter-widgets/controls",
      "_model_module_version": "1.5.0",
      "_model_name": "HTMLModel",
      "_view_count": null,
      "_view_module": "@jupyter-widgets/controls",
      "_view_module_version": "1.5.0",
      "_view_name": "HTMLView",
      "description": "",
      "description_tooltip": null,
      "layout": "IPY_MODEL_bc6fbfb8b52a430d91421352cebb7f4b",
      "placeholder": "​",
      "style": "IPY_MODEL_5943ccf10fb14c0ab0899b96558cf01f",
      "value": "Generating train split: 100%"
     }
    },
    "3e615e6524a748828d3591c011616773": {
     "model_module": "@jupyter-widgets/controls",
     "model_module_version": "1.5.0",
     "model_name": "FloatProgressModel",
     "state": {
      "_dom_classes": [],
      "_model_module": "@jupyter-widgets/controls",
      "_model_module_version": "1.5.0",
      "_model_name": "FloatProgressModel",
      "_view_count": null,
      "_view_module": "@jupyter-widgets/controls",
      "_view_module_version": "1.5.0",
      "_view_name": "ProgressView",
      "bar_style": "success",
      "description": "",
      "description_tooltip": null,
      "layout": "IPY_MODEL_e81076d511ae4028b3ca98f63e91af85",
      "max": 4678,
      "min": 0,
      "orientation": "horizontal",
      "style": "IPY_MODEL_4071eb7611604e61bced643d4eccd6c2",
      "value": 4678
     }
    },
    "4071eb7611604e61bced643d4eccd6c2": {
     "model_module": "@jupyter-widgets/controls",
     "model_module_version": "1.5.0",
     "model_name": "ProgressStyleModel",
     "state": {
      "_model_module": "@jupyter-widgets/controls",
      "_model_module_version": "1.5.0",
      "_model_name": "ProgressStyleModel",
      "_view_count": null,
      "_view_module": "@jupyter-widgets/base",
      "_view_module_version": "1.2.0",
      "_view_name": "StyleView",
      "bar_color": null,
      "description_width": ""
     }
    },
    "45923433c0b644769a38bc6367f520ce": {
     "model_module": "@jupyter-widgets/controls",
     "model_module_version": "1.5.0",
     "model_name": "ProgressStyleModel",
     "state": {
      "_model_module": "@jupyter-widgets/controls",
      "_model_module_version": "1.5.0",
      "_model_name": "ProgressStyleModel",
      "_view_count": null,
      "_view_module": "@jupyter-widgets/base",
      "_view_module_version": "1.2.0",
      "_view_name": "StyleView",
      "bar_color": null,
      "description_width": ""
     }
    },
    "49932200caba40e1a0474e3a91c28dcb": {
     "model_module": "@jupyter-widgets/controls",
     "model_module_version": "1.5.0",
     "model_name": "HBoxModel",
     "state": {
      "_dom_classes": [],
      "_model_module": "@jupyter-widgets/controls",
      "_model_module_version": "1.5.0",
      "_model_name": "HBoxModel",
      "_view_count": null,
      "_view_module": "@jupyter-widgets/controls",
      "_view_module_version": "1.5.0",
      "_view_name": "HBoxView",
      "box_style": "",
      "children": [
       "IPY_MODEL_1eecd5f07dcf4316b3af9cfbd120346f",
       "IPY_MODEL_129ef7085e684ca9b936e7a235abb507",
       "IPY_MODEL_19b691c6a18c43509491251fb93a103a"
      ],
      "layout": "IPY_MODEL_1190fa0da11844448744eea15966159d"
     }
    },
    "5515b0a8d40447168d2c2baf8906774a": {
     "model_module": "@jupyter-widgets/base",
     "model_module_version": "1.2.0",
     "model_name": "LayoutModel",
     "state": {
      "_model_module": "@jupyter-widgets/base",
      "_model_module_version": "1.2.0",
      "_model_name": "LayoutModel",
      "_view_count": null,
      "_view_module": "@jupyter-widgets/base",
      "_view_module_version": "1.2.0",
      "_view_name": "LayoutView",
      "align_content": null,
      "align_items": null,
      "align_self": null,
      "border": null,
      "bottom": null,
      "display": null,
      "flex": null,
      "flex_flow": null,
      "grid_area": null,
      "grid_auto_columns": null,
      "grid_auto_flow": null,
      "grid_auto_rows": null,
      "grid_column": null,
      "grid_gap": null,
      "grid_row": null,
      "grid_template_areas": null,
      "grid_template_columns": null,
      "grid_template_rows": null,
      "height": null,
      "justify_content": null,
      "justify_items": null,
      "left": null,
      "margin": null,
      "max_height": null,
      "max_width": null,
      "min_height": null,
      "min_width": null,
      "object_fit": null,
      "object_position": null,
      "order": null,
      "overflow": null,
      "overflow_x": null,
      "overflow_y": null,
      "padding": null,
      "right": null,
      "top": null,
      "visibility": null,
      "width": null
     }
    },
    "57427ead028449058af5f4471dc2001f": {
     "model_module": "@jupyter-widgets/controls",
     "model_module_version": "1.5.0",
     "model_name": "HBoxModel",
     "state": {
      "_dom_classes": [],
      "_model_module": "@jupyter-widgets/controls",
      "_model_module_version": "1.5.0",
      "_model_name": "HBoxModel",
      "_view_count": null,
      "_view_module": "@jupyter-widgets/controls",
      "_view_module_version": "1.5.0",
      "_view_name": "HBoxView",
      "box_style": "",
      "children": [
       "IPY_MODEL_d65e43929898474bbdd7d5664ab468c5",
       "IPY_MODEL_3e615e6524a748828d3591c011616773",
       "IPY_MODEL_77aa4f2d5df14fc084eec0c13e1c9f15"
      ],
      "layout": "IPY_MODEL_06acd57afb9241a7940e2d6f3ad26834"
     }
    },
    "5943ccf10fb14c0ab0899b96558cf01f": {
     "model_module": "@jupyter-widgets/controls",
     "model_module_version": "1.5.0",
     "model_name": "DescriptionStyleModel",
     "state": {
      "_model_module": "@jupyter-widgets/controls",
      "_model_module_version": "1.5.0",
      "_model_name": "DescriptionStyleModel",
      "_view_count": null,
      "_view_module": "@jupyter-widgets/base",
      "_view_module_version": "1.2.0",
      "_view_name": "StyleView",
      "description_width": ""
     }
    },
    "5d8b1cef85164ffbb26af228dc3c4141": {
     "model_module": "@jupyter-widgets/base",
     "model_module_version": "1.2.0",
     "model_name": "LayoutModel",
     "state": {
      "_model_module": "@jupyter-widgets/base",
      "_model_module_version": "1.2.0",
      "_model_name": "LayoutModel",
      "_view_count": null,
      "_view_module": "@jupyter-widgets/base",
      "_view_module_version": "1.2.0",
      "_view_name": "LayoutView",
      "align_content": null,
      "align_items": null,
      "align_self": null,
      "border": null,
      "bottom": null,
      "display": null,
      "flex": null,
      "flex_flow": null,
      "grid_area": null,
      "grid_auto_columns": null,
      "grid_auto_flow": null,
      "grid_auto_rows": null,
      "grid_column": null,
      "grid_gap": null,
      "grid_row": null,
      "grid_template_areas": null,
      "grid_template_columns": null,
      "grid_template_rows": null,
      "height": null,
      "justify_content": null,
      "justify_items": null,
      "left": null,
      "margin": null,
      "max_height": null,
      "max_width": null,
      "min_height": null,
      "min_width": null,
      "object_fit": null,
      "object_position": null,
      "order": null,
      "overflow": null,
      "overflow_x": null,
      "overflow_y": null,
      "padding": null,
      "right": null,
      "top": null,
      "visibility": null,
      "width": null
     }
    },
    "628fb4cb47a04b1d8f30a207125b4353": {
     "model_module": "@jupyter-widgets/base",
     "model_module_version": "1.2.0",
     "model_name": "LayoutModel",
     "state": {
      "_model_module": "@jupyter-widgets/base",
      "_model_module_version": "1.2.0",
      "_model_name": "LayoutModel",
      "_view_count": null,
      "_view_module": "@jupyter-widgets/base",
      "_view_module_version": "1.2.0",
      "_view_name": "LayoutView",
      "align_content": null,
      "align_items": null,
      "align_self": null,
      "border": null,
      "bottom": null,
      "display": null,
      "flex": null,
      "flex_flow": null,
      "grid_area": null,
      "grid_auto_columns": null,
      "grid_auto_flow": null,
      "grid_auto_rows": null,
      "grid_column": null,
      "grid_gap": null,
      "grid_row": null,
      "grid_template_areas": null,
      "grid_template_columns": null,
      "grid_template_rows": null,
      "height": null,
      "justify_content": null,
      "justify_items": null,
      "left": null,
      "margin": null,
      "max_height": null,
      "max_width": null,
      "min_height": null,
      "min_width": null,
      "object_fit": null,
      "object_position": null,
      "order": null,
      "overflow": null,
      "overflow_x": null,
      "overflow_y": null,
      "padding": null,
      "right": null,
      "top": null,
      "visibility": null,
      "width": null
     }
    },
    "6fae1a780bbc4837b5e37dfb140f9a2e": {
     "model_module": "@jupyter-widgets/base",
     "model_module_version": "1.2.0",
     "model_name": "LayoutModel",
     "state": {
      "_model_module": "@jupyter-widgets/base",
      "_model_module_version": "1.2.0",
      "_model_name": "LayoutModel",
      "_view_count": null,
      "_view_module": "@jupyter-widgets/base",
      "_view_module_version": "1.2.0",
      "_view_name": "LayoutView",
      "align_content": null,
      "align_items": null,
      "align_self": null,
      "border": null,
      "bottom": null,
      "display": null,
      "flex": null,
      "flex_flow": null,
      "grid_area": null,
      "grid_auto_columns": null,
      "grid_auto_flow": null,
      "grid_auto_rows": null,
      "grid_column": null,
      "grid_gap": null,
      "grid_row": null,
      "grid_template_areas": null,
      "grid_template_columns": null,
      "grid_template_rows": null,
      "height": null,
      "justify_content": null,
      "justify_items": null,
      "left": null,
      "margin": null,
      "max_height": null,
      "max_width": null,
      "min_height": null,
      "min_width": null,
      "object_fit": null,
      "object_position": null,
      "order": null,
      "overflow": null,
      "overflow_x": null,
      "overflow_y": null,
      "padding": null,
      "right": null,
      "top": null,
      "visibility": null,
      "width": null
     }
    },
    "738c72b685b14645a79d9938833fba48": {
     "model_module": "@jupyter-widgets/controls",
     "model_module_version": "1.5.0",
     "model_name": "ProgressStyleModel",
     "state": {
      "_model_module": "@jupyter-widgets/controls",
      "_model_module_version": "1.5.0",
      "_model_name": "ProgressStyleModel",
      "_view_count": null,
      "_view_module": "@jupyter-widgets/base",
      "_view_module_version": "1.2.0",
      "_view_name": "StyleView",
      "bar_color": null,
      "description_width": ""
     }
    },
    "77aa4f2d5df14fc084eec0c13e1c9f15": {
     "model_module": "@jupyter-widgets/controls",
     "model_module_version": "1.5.0",
     "model_name": "HTMLModel",
     "state": {
      "_dom_classes": [],
      "_model_module": "@jupyter-widgets/controls",
      "_model_module_version": "1.5.0",
      "_model_name": "HTMLModel",
      "_view_count": null,
      "_view_module": "@jupyter-widgets/controls",
      "_view_module_version": "1.5.0",
      "_view_name": "HTMLView",
      "description": "",
      "description_tooltip": null,
      "layout": "IPY_MODEL_a1cd789d956140f9872ff60fe6f2b0d3",
      "placeholder": "​",
      "style": "IPY_MODEL_da99247f5e0b4abc9ce21a207216eb95",
      "value": " 4.68k/4.68k [00:00&lt;00:00, 138kB/s]"
     }
    },
    "916679da74b84da09143c48f06f354f3": {
     "model_module": "@jupyter-widgets/controls",
     "model_module_version": "1.5.0",
     "model_name": "DescriptionStyleModel",
     "state": {
      "_model_module": "@jupyter-widgets/controls",
      "_model_module_version": "1.5.0",
      "_model_name": "DescriptionStyleModel",
      "_view_count": null,
      "_view_module": "@jupyter-widgets/base",
      "_view_module_version": "1.2.0",
      "_view_name": "StyleView",
      "description_width": ""
     }
    },
    "9c0082a6d0fa49cd963b4d17214e74ec": {
     "model_module": "@jupyter-widgets/base",
     "model_module_version": "1.2.0",
     "model_name": "LayoutModel",
     "state": {
      "_model_module": "@jupyter-widgets/base",
      "_model_module_version": "1.2.0",
      "_model_name": "LayoutModel",
      "_view_count": null,
      "_view_module": "@jupyter-widgets/base",
      "_view_module_version": "1.2.0",
      "_view_name": "LayoutView",
      "align_content": null,
      "align_items": null,
      "align_self": null,
      "border": null,
      "bottom": null,
      "display": null,
      "flex": null,
      "flex_flow": null,
      "grid_area": null,
      "grid_auto_columns": null,
      "grid_auto_flow": null,
      "grid_auto_rows": null,
      "grid_column": null,
      "grid_gap": null,
      "grid_row": null,
      "grid_template_areas": null,
      "grid_template_columns": null,
      "grid_template_rows": null,
      "height": null,
      "justify_content": null,
      "justify_items": null,
      "left": null,
      "margin": null,
      "max_height": null,
      "max_width": null,
      "min_height": null,
      "min_width": null,
      "object_fit": null,
      "object_position": null,
      "order": null,
      "overflow": null,
      "overflow_x": null,
      "overflow_y": null,
      "padding": null,
      "right": null,
      "top": null,
      "visibility": null,
      "width": null
     }
    },
    "9f55f6c7e389400ba66be0b91e956e31": {
     "model_module": "@jupyter-widgets/controls",
     "model_module_version": "1.5.0",
     "model_name": "DescriptionStyleModel",
     "state": {
      "_model_module": "@jupyter-widgets/controls",
      "_model_module_version": "1.5.0",
      "_model_name": "DescriptionStyleModel",
      "_view_count": null,
      "_view_module": "@jupyter-widgets/base",
      "_view_module_version": "1.2.0",
      "_view_name": "StyleView",
      "description_width": ""
     }
    },
    "a1cd789d956140f9872ff60fe6f2b0d3": {
     "model_module": "@jupyter-widgets/base",
     "model_module_version": "1.2.0",
     "model_name": "LayoutModel",
     "state": {
      "_model_module": "@jupyter-widgets/base",
      "_model_module_version": "1.2.0",
      "_model_name": "LayoutModel",
      "_view_count": null,
      "_view_module": "@jupyter-widgets/base",
      "_view_module_version": "1.2.0",
      "_view_name": "LayoutView",
      "align_content": null,
      "align_items": null,
      "align_self": null,
      "border": null,
      "bottom": null,
      "display": null,
      "flex": null,
      "flex_flow": null,
      "grid_area": null,
      "grid_auto_columns": null,
      "grid_auto_flow": null,
      "grid_auto_rows": null,
      "grid_column": null,
      "grid_gap": null,
      "grid_row": null,
      "grid_template_areas": null,
      "grid_template_columns": null,
      "grid_template_rows": null,
      "height": null,
      "justify_content": null,
      "justify_items": null,
      "left": null,
      "margin": null,
      "max_height": null,
      "max_width": null,
      "min_height": null,
      "min_width": null,
      "object_fit": null,
      "object_position": null,
      "order": null,
      "overflow": null,
      "overflow_x": null,
      "overflow_y": null,
      "padding": null,
      "right": null,
      "top": null,
      "visibility": null,
      "width": null
     }
    },
    "a7471f1e2e0d4987b9a0deb23e710a94": {
     "model_module": "@jupyter-widgets/base",
     "model_module_version": "1.2.0",
     "model_name": "LayoutModel",
     "state": {
      "_model_module": "@jupyter-widgets/base",
      "_model_module_version": "1.2.0",
      "_model_name": "LayoutModel",
      "_view_count": null,
      "_view_module": "@jupyter-widgets/base",
      "_view_module_version": "1.2.0",
      "_view_name": "LayoutView",
      "align_content": null,
      "align_items": null,
      "align_self": null,
      "border": null,
      "bottom": null,
      "display": null,
      "flex": null,
      "flex_flow": null,
      "grid_area": null,
      "grid_auto_columns": null,
      "grid_auto_flow": null,
      "grid_auto_rows": null,
      "grid_column": null,
      "grid_gap": null,
      "grid_row": null,
      "grid_template_areas": null,
      "grid_template_columns": null,
      "grid_template_rows": null,
      "height": null,
      "justify_content": null,
      "justify_items": null,
      "left": null,
      "margin": null,
      "max_height": null,
      "max_width": null,
      "min_height": null,
      "min_width": null,
      "object_fit": null,
      "object_position": null,
      "order": null,
      "overflow": null,
      "overflow_x": null,
      "overflow_y": null,
      "padding": null,
      "right": null,
      "top": null,
      "visibility": null,
      "width": null
     }
    },
    "b7e9e2e0fbc840f4b1ce83fbce134205": {
     "model_module": "@jupyter-widgets/controls",
     "model_module_version": "1.5.0",
     "model_name": "DescriptionStyleModel",
     "state": {
      "_model_module": "@jupyter-widgets/controls",
      "_model_module_version": "1.5.0",
      "_model_name": "DescriptionStyleModel",
      "_view_count": null,
      "_view_module": "@jupyter-widgets/base",
      "_view_module_version": "1.2.0",
      "_view_name": "StyleView",
      "description_width": ""
     }
    },
    "bc3ecb8599994c5483dfe94358aaa243": {
     "model_module": "@jupyter-widgets/controls",
     "model_module_version": "1.5.0",
     "model_name": "DescriptionStyleModel",
     "state": {
      "_model_module": "@jupyter-widgets/controls",
      "_model_module_version": "1.5.0",
      "_model_name": "DescriptionStyleModel",
      "_view_count": null,
      "_view_module": "@jupyter-widgets/base",
      "_view_module_version": "1.2.0",
      "_view_name": "StyleView",
      "description_width": ""
     }
    },
    "bc6fbfb8b52a430d91421352cebb7f4b": {
     "model_module": "@jupyter-widgets/base",
     "model_module_version": "1.2.0",
     "model_name": "LayoutModel",
     "state": {
      "_model_module": "@jupyter-widgets/base",
      "_model_module_version": "1.2.0",
      "_model_name": "LayoutModel",
      "_view_count": null,
      "_view_module": "@jupyter-widgets/base",
      "_view_module_version": "1.2.0",
      "_view_name": "LayoutView",
      "align_content": null,
      "align_items": null,
      "align_self": null,
      "border": null,
      "bottom": null,
      "display": null,
      "flex": null,
      "flex_flow": null,
      "grid_area": null,
      "grid_auto_columns": null,
      "grid_auto_flow": null,
      "grid_auto_rows": null,
      "grid_column": null,
      "grid_gap": null,
      "grid_row": null,
      "grid_template_areas": null,
      "grid_template_columns": null,
      "grid_template_rows": null,
      "height": null,
      "justify_content": null,
      "justify_items": null,
      "left": null,
      "margin": null,
      "max_height": null,
      "max_width": null,
      "min_height": null,
      "min_width": null,
      "object_fit": null,
      "object_position": null,
      "order": null,
      "overflow": null,
      "overflow_x": null,
      "overflow_y": null,
      "padding": null,
      "right": null,
      "top": null,
      "visibility": null,
      "width": null
     }
    },
    "c353f30f99214e4e85d99080d1b4f9da": {
     "model_module": "@jupyter-widgets/controls",
     "model_module_version": "1.5.0",
     "model_name": "HTMLModel",
     "state": {
      "_dom_classes": [],
      "_model_module": "@jupyter-widgets/controls",
      "_model_module_version": "1.5.0",
      "_model_name": "HTMLModel",
      "_view_count": null,
      "_view_module": "@jupyter-widgets/controls",
      "_view_module_version": "1.5.0",
      "_view_name": "HTMLView",
      "description": "",
      "description_tooltip": null,
      "layout": "IPY_MODEL_5d8b1cef85164ffbb26af228dc3c4141",
      "placeholder": "​",
      "style": "IPY_MODEL_b7e9e2e0fbc840f4b1ce83fbce134205",
      "value": " 114000/114000 [00:01&lt;00:00, 63767.26 examples/s]"
     }
    },
    "d292d3eb87bd492bbb6f9d04b6c42a4b": {
     "model_module": "@jupyter-widgets/controls",
     "model_module_version": "1.5.0",
     "model_name": "FloatProgressModel",
     "state": {
      "_dom_classes": [],
      "_model_module": "@jupyter-widgets/controls",
      "_model_module_version": "1.5.0",
      "_model_name": "FloatProgressModel",
      "_view_count": null,
      "_view_module": "@jupyter-widgets/controls",
      "_view_module_version": "1.5.0",
      "_view_name": "ProgressView",
      "bar_style": "success",
      "description": "",
      "description_tooltip": null,
      "layout": "IPY_MODEL_9c0082a6d0fa49cd963b4d17214e74ec",
      "max": 114000,
      "min": 0,
      "orientation": "horizontal",
      "style": "IPY_MODEL_738c72b685b14645a79d9938833fba48",
      "value": 114000
     }
    },
    "d65e43929898474bbdd7d5664ab468c5": {
     "model_module": "@jupyter-widgets/controls",
     "model_module_version": "1.5.0",
     "model_name": "HTMLModel",
     "state": {
      "_dom_classes": [],
      "_model_module": "@jupyter-widgets/controls",
      "_model_module_version": "1.5.0",
      "_model_name": "HTMLModel",
      "_view_count": null,
      "_view_module": "@jupyter-widgets/controls",
      "_view_module_version": "1.5.0",
      "_view_name": "HTMLView",
      "description": "",
      "description_tooltip": null,
      "layout": "IPY_MODEL_040f446dd36a4dcf8754e14c968f0b93",
      "placeholder": "​",
      "style": "IPY_MODEL_bc3ecb8599994c5483dfe94358aaa243",
      "value": "Downloading readme: 100%"
     }
    },
    "da99247f5e0b4abc9ce21a207216eb95": {
     "model_module": "@jupyter-widgets/controls",
     "model_module_version": "1.5.0",
     "model_name": "DescriptionStyleModel",
     "state": {
      "_model_module": "@jupyter-widgets/controls",
      "_model_module_version": "1.5.0",
      "_model_name": "DescriptionStyleModel",
      "_view_count": null,
      "_view_module": "@jupyter-widgets/base",
      "_view_module_version": "1.2.0",
      "_view_name": "StyleView",
      "description_width": ""
     }
    },
    "defb5564e1c9426e868e985bd2722e5e": {
     "model_module": "@jupyter-widgets/controls",
     "model_module_version": "1.5.0",
     "model_name": "HBoxModel",
     "state": {
      "_dom_classes": [],
      "_model_module": "@jupyter-widgets/controls",
      "_model_module_version": "1.5.0",
      "_model_name": "HBoxModel",
      "_view_count": null,
      "_view_module": "@jupyter-widgets/controls",
      "_view_module_version": "1.5.0",
      "_view_name": "HBoxView",
      "box_style": "",
      "children": [
       "IPY_MODEL_2618acc73f2241fb96bc3ed1a15ac26d",
       "IPY_MODEL_d292d3eb87bd492bbb6f9d04b6c42a4b",
       "IPY_MODEL_c353f30f99214e4e85d99080d1b4f9da"
      ],
      "layout": "IPY_MODEL_628fb4cb47a04b1d8f30a207125b4353"
     }
    },
    "e81076d511ae4028b3ca98f63e91af85": {
     "model_module": "@jupyter-widgets/base",
     "model_module_version": "1.2.0",
     "model_name": "LayoutModel",
     "state": {
      "_model_module": "@jupyter-widgets/base",
      "_model_module_version": "1.2.0",
      "_model_name": "LayoutModel",
      "_view_count": null,
      "_view_module": "@jupyter-widgets/base",
      "_view_module_version": "1.2.0",
      "_view_name": "LayoutView",
      "align_content": null,
      "align_items": null,
      "align_self": null,
      "border": null,
      "bottom": null,
      "display": null,
      "flex": null,
      "flex_flow": null,
      "grid_area": null,
      "grid_auto_columns": null,
      "grid_auto_flow": null,
      "grid_auto_rows": null,
      "grid_column": null,
      "grid_gap": null,
      "grid_row": null,
      "grid_template_areas": null,
      "grid_template_columns": null,
      "grid_template_rows": null,
      "height": null,
      "justify_content": null,
      "justify_items": null,
      "left": null,
      "margin": null,
      "max_height": null,
      "max_width": null,
      "min_height": null,
      "min_width": null,
      "object_fit": null,
      "object_position": null,
      "order": null,
      "overflow": null,
      "overflow_x": null,
      "overflow_y": null,
      "padding": null,
      "right": null,
      "top": null,
      "visibility": null,
      "width": null
     }
    }
   }
  }
 },
 "nbformat": 4,
 "nbformat_minor": 4
}
